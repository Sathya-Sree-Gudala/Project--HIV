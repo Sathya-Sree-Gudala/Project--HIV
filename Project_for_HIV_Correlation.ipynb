{
  "cells": [
    {
      "cell_type": "markdown",
      "metadata": {
        "id": "6jFIVhYW8Sz8"
      },
      "source": [
        "This project is done in google colab"
      ]
    },
    {
      "cell_type": "markdown",
      "metadata": {
        "id": "-WR_GfUv8b_2"
      },
      "source": [
        "# loading data to be stored to the database"
      ]
    },
    {
      "cell_type": "code",
      "execution_count": 5,
      "metadata": {
        "colab": {
          "base_uri": "https://localhost:8080/"
        },
        "id": "M4G7L6zx7gWL",
        "outputId": "27cb6f7c-37ae-49fe-905a-8f0a47234145"
      },
      "outputs": [
        {
          "output_type": "stream",
          "name": "stdout",
          "text": [
            "<class 'pandas.core.frame.DataFrame'>\n",
            "RangeIndex: 6005 entries, 0 to 6004\n",
            "Data columns (total 18 columns):\n",
            " #   Column                            Non-Null Count  Dtype  \n",
            "---  ------                            --------------  -----  \n",
            " 0   Year                              6005 non-null   int64  \n",
            " 1   Borough                           6005 non-null   object \n",
            " 2   UHF                               6005 non-null   object \n",
            " 3   Gender                            6005 non-null   object \n",
            " 4   Age                               6005 non-null   object \n",
            " 5   Race                              6005 non-null   object \n",
            " 6   HIV diagnoses                     6005 non-null   int64  \n",
            " 7   HIV diagnosis rate                6005 non-null   float64\n",
            " 8   Concurrent diagnoses              6005 non-null   int64  \n",
            " 9   % linked to care within 3 months  6005 non-null   int64  \n",
            " 10  AIDS diagnoses                    6005 non-null   int64  \n",
            " 11  AIDS diagnosis rate               6005 non-null   float64\n",
            " 12  PLWDHI prevalence                 6005 non-null   float64\n",
            " 13  % viral suppression               6005 non-null   int64  \n",
            " 14  Deaths                            6005 non-null   int64  \n",
            " 15  Death rate                        6005 non-null   float64\n",
            " 16  HIV-related death rate            6005 non-null   float64\n",
            " 17  Non-HIV-related death rate        6005 non-null   float64\n",
            "dtypes: float64(6), int64(7), object(5)\n",
            "memory usage: 844.6+ KB\n"
          ]
        }
      ],
      "source": [
        "import pandas as pd\n",
        "\n",
        "db_data = pd.read_csv(\"/content/DOHMH_HIV_AIDS_Annual_Report.csv\")\n",
        "db_data.info()"
      ]
    },
    {
      "cell_type": "code",
      "execution_count": 6,
      "metadata": {
        "colab": {
          "base_uri": "https://localhost:8080/"
        },
        "id": "q7SuHaQdBbjN",
        "outputId": "f98799fd-587f-42aa-91bd-e159b9259b65"
      },
      "outputs": [
        {
          "output_type": "execute_result",
          "data": {
            "text/plain": [
              "Year                                0\n",
              "Borough                             0\n",
              "UHF                                 0\n",
              "Gender                              0\n",
              "Age                                 0\n",
              "Race                                0\n",
              "HIV diagnoses                       0\n",
              "HIV diagnosis rate                  0\n",
              "Concurrent diagnoses                0\n",
              "% linked to care within 3 months    0\n",
              "AIDS diagnoses                      0\n",
              "AIDS diagnosis rate                 0\n",
              "PLWDHI prevalence                   0\n",
              "% viral suppression                 0\n",
              "Deaths                              0\n",
              "Death rate                          0\n",
              "HIV-related death rate              0\n",
              "Non-HIV-related death rate          0\n",
              "dtype: int64"
            ]
          },
          "metadata": {},
          "execution_count": 6
        }
      ],
      "source": [
        "# check for null values\n",
        "db_data.isnull().sum()"
      ]
    },
    {
      "cell_type": "code",
      "execution_count": 7,
      "metadata": {
        "colab": {
          "base_uri": "https://localhost:8080/"
        },
        "id": "qaMD7NuLByLI",
        "outputId": "fa59fd02-3418-47f4-a576-17384cea9b1c"
      },
      "outputs": [
        {
          "output_type": "stream",
          "name": "stdout",
          "text": [
            "<class 'pandas.core.frame.DataFrame'>\n",
            "RangeIndex: 6005 entries, 0 to 6004\n",
            "Data columns (total 7 columns):\n",
            " #   Column                        Non-Null Count  Dtype  \n",
            "---  ------                        --------------  -----  \n",
            " 0   Age                           6005 non-null   object \n",
            " 1   Gender                        6005 non-null   object \n",
            " 2   Race                          6005 non-null   object \n",
            " 3   HIV_diagnoses                 6005 non-null   int64  \n",
            " 4   Concurrent_diagnoses          6005 non-null   int64  \n",
            " 5   percentage_viral_suppression  6005 non-null   int64  \n",
            " 6   HIV_related_death_rate        6005 non-null   float64\n",
            "dtypes: float64(1), int64(3), object(3)\n",
            "memory usage: 328.5+ KB\n",
            "None\n"
          ]
        }
      ],
      "source": [
        "# extract relevant variables\n",
        "db_df = db_data.filter(['Age', 'Gender', 'Race', 'HIV diagnoses', \n",
        "                        'Concurrent diagnoses', '% viral suppression', \n",
        "                        'HIV-related death rate'])\n",
        "\n",
        "# remove special character\n",
        "db_df.columns = db_df.columns.str.replace('-', '_')\n",
        "db_df.columns = db_df.columns.str.replace('%', 'percentage')\n",
        "db_df.columns = db_df.columns.str.rstrip()\n",
        "db_df.columns = db_df.columns.str.replace(' ', '_')\n",
        "print(db_df.info())"
      ]
    },
    {
      "cell_type": "markdown",
      "metadata": {
        "id": "9e8jzVXHXP9P"
      },
      "source": [
        "Create database"
      ]
    },
    {
      "cell_type": "code",
      "execution_count": 9,
      "metadata": {
        "colab": {
          "base_uri": "https://localhost:8080/"
        },
        "id": "HeptMD-4XkKD",
        "outputId": "1d7b850b-0783-40cb-b3c6-346f98ea4f5d"
      },
      "outputs": [
        {
          "output_type": "stream",
          "name": "stdout",
          "text": [
            "Database opened successfully\n",
            "Table created successfully\n"
          ]
        }
      ],
      "source": [
        "# import package\n",
        "import sqlite3\n",
        "\n",
        "# create database\n",
        "sql_con = sqlite3.connect('DOHMH_HIV_AIDS_Data_tb.db')\n",
        "print(\"Database opened successfully\");\n",
        "\n",
        "# create table\n",
        "sql_con.execute('''\n",
        "CREATE TABLE IF NOT EXISTS DOHMH_HIV_AIDS_Data(Age text, Gender text, Race text, \n",
        "HIV_diagnoses text, Concurrent_diagnoses text, percentage_viral_suppression text, \n",
        "HIV_related_death_rate text);''')\n",
        "sql_con.commit()\n",
        "print(\"Table created successfully\");\n",
        "sql_con.close()"
      ]
    },
    {
      "cell_type": "code",
      "execution_count": 10,
      "metadata": {
        "colab": {
          "base_uri": "https://localhost:8080/"
        },
        "id": "obSdtkmcuzxt",
        "outputId": "1348ef3c-0885-4bd2-e22a-969445414bfb"
      },
      "outputs": [
        {
          "output_type": "stream",
          "name": "stdout",
          "text": [
            "Data saved to database\n",
            "Database closed\n"
          ]
        }
      ],
      "source": [
        "sql_con = sqlite3.connect('DOHMH_HIV_AIDS_Data_tb.db')\n",
        "# add data to the created database\n",
        "db_df.to_sql('DOHMH_HIV_AIDS_Data', sql_con, if_exists='append', index = False)\n",
        "print(\"Data saved to database\")\n",
        "sql_con.commit()\n",
        "sql_con.close()\n",
        "print(\"Database closed\")"
      ]
    },
    {
      "cell_type": "markdown",
      "metadata": {
        "id": "6zdC_904YFaO"
      },
      "source": [
        "Access the database and querying data"
      ]
    },
    {
      "cell_type": "code",
      "execution_count": 11,
      "metadata": {
        "colab": {
          "base_uri": "https://localhost:8080/"
        },
        "id": "u3dLoHy8YNdM",
        "outputId": "cdcda181-2570-41bd-bd6a-515556425d4b"
      },
      "outputs": [
        {
          "output_type": "stream",
          "name": "stdout",
          "text": [
            "          Age       Gender                    Race HIV_diagnoses  \\\n",
            "0         All          All                     All          3379   \n",
            "1         All         Male                     All          2595   \n",
            "2         All       Female                     All           733   \n",
            "3         All  Transgender                     All            51   \n",
            "4     13 - 19       Female                     All            47   \n",
            "...       ...          ...                     ...           ...   \n",
            "6000      All         Male  Asian/Pacific Islander             0   \n",
            "6001      All         Male                   Black             1   \n",
            "6002      All         Male         Latino/Hispanic             2   \n",
            "6003      All         Male           Other/Unknown             1   \n",
            "6004      All         Male                   White             0   \n",
            "\n",
            "     Concurrent_diagnoses percentage_viral_suppression HIV_related_death_rate  \n",
            "0                     640                           71                    5.8  \n",
            "1                     480                           72                    5.7  \n",
            "2                     153                           68                    6.0  \n",
            "3                       7                           55                    5.7  \n",
            "4                       4                           57                    1.4  \n",
            "...                   ...                          ...                    ...  \n",
            "6000                    0                          100                99999.0  \n",
            "6001                    0                           80                99999.0  \n",
            "6002                    0                           87                99999.0  \n",
            "6003                    0                          100                99999.0  \n",
            "6004                    0                           93                99999.0  \n",
            "\n",
            "[6005 rows x 7 columns]\n"
          ]
        }
      ],
      "source": [
        "sql_con = sqlite3.connect('DOHMH_HIV_AIDS_Data_tb.db')\n",
        "\n",
        "dohmh_data = pd.read_sql('''SELECT * FROM DOHMH_HIV_AIDS_Data''', sql_con)\n",
        "sql_con.commit()\n",
        "sql_con.close()\n",
        "print(dohmh_data)"
      ]
    },
    {
      "cell_type": "markdown",
      "metadata": {
        "id": "LxkQngFYxkbj"
      },
      "source": [
        "# Load data for analysis and visualization"
      ]
    },
    {
      "cell_type": "code",
      "execution_count": 12,
      "metadata": {
        "colab": {
          "base_uri": "https://localhost:8080/"
        },
        "id": "2Frpw8pTxlt0",
        "outputId": "8314dba6-cd02-4f99-be43-c5219cf59b30"
      },
      "outputs": [
        {
          "output_type": "stream",
          "name": "stdout",
          "text": [
            "       Age       Gender Race  HIV_diagnoses  Concurrent_diagnoses  \\\n",
            "0      All          All  All           3379                   640   \n",
            "1      All         Male  All           2595                   480   \n",
            "2      All       Female  All            733                   153   \n",
            "3      All  Transgender  All             51                     7   \n",
            "4  13 - 19       Female  All             47                     4   \n",
            "\n",
            "   percentage_viral_suppression  HIV_related_death_rate  \n",
            "0                            71                     5.8  \n",
            "1                            72                     5.7  \n",
            "2                            68                     6.0  \n",
            "3                            55                     5.7  \n",
            "4                            57                     1.4  \n"
          ]
        }
      ],
      "source": [
        "import pandas as pd\n",
        "\n",
        "hiv_data = pd.read_csv(\"/content/DOHMH_HIV_AIDS_Annual_Report.csv\")\n",
        "\n",
        "# filter columns with the variables needed\n",
        "hiv_df = hiv_data.filter(['Age', 'Gender', 'Race', 'HIV diagnoses', \n",
        "                        'Concurrent diagnoses', '% viral suppression', \n",
        "                        'HIV-related death rate'])\n",
        "\n",
        "# remove special character\n",
        "hiv_df.columns = hiv_df.columns.str.replace('-', '_')\n",
        "hiv_df.columns = hiv_df.columns.str.replace('%', 'percentage')\n",
        "hiv_df.columns = hiv_df.columns.str.rstrip()\n",
        "hiv_df.columns = hiv_df.columns.str.replace(' ', '_')\n",
        "print(hiv_df.head())"
      ]
    },
    {
      "cell_type": "markdown",
      "metadata": {
        "id": "0Lu9nb-pz8AT"
      },
      "source": [
        "# Data extraction and cleaning"
      ]
    },
    {
      "cell_type": "code",
      "execution_count": 13,
      "metadata": {
        "colab": {
          "base_uri": "https://localhost:8080/"
        },
        "id": "q780bpHwz9e4",
        "outputId": "274bed0d-fe7f-4514-9a5f-0d7af08b7fc1"
      },
      "outputs": [
        {
          "output_type": "execute_result",
          "data": {
            "text/plain": [
              "Year                                0\n",
              "Borough                             0\n",
              "UHF                                 0\n",
              "Gender                              0\n",
              "Age                                 0\n",
              "Race                                0\n",
              "HIV diagnoses                       0\n",
              "HIV diagnosis rate                  0\n",
              "Concurrent diagnoses                0\n",
              "% linked to care within 3 months    0\n",
              "AIDS diagnoses                      0\n",
              "AIDS diagnosis rate                 0\n",
              "PLWDHI prevalence                   0\n",
              "% viral suppression                 0\n",
              "Deaths                              0\n",
              "Death rate                          0\n",
              "HIV-related death rate              0\n",
              "Non-HIV-related death rate          0\n",
              "dtype: int64"
            ]
          },
          "metadata": {},
          "execution_count": 13
        }
      ],
      "source": [
        "# checking if the HIV data has null values\n",
        "hiv_data.isnull().sum()"
      ]
    },
    {
      "cell_type": "markdown",
      "metadata": {
        "id": "XO8lW5UW3pY0"
      },
      "source": [
        "check for duplicates"
      ]
    },
    {
      "cell_type": "code",
      "execution_count": 14,
      "metadata": {
        "colab": {
          "base_uri": "https://localhost:8080/"
        },
        "id": "gFIa9nZ73rh9",
        "outputId": "9f0b47fa-79df-422f-e4bf-7e72e4b21958"
      },
      "outputs": [
        {
          "output_type": "execute_result",
          "data": {
            "text/plain": [
              "0       False\n",
              "1       False\n",
              "2       False\n",
              "3       False\n",
              "4       False\n",
              "        ...  \n",
              "6000     True\n",
              "6001    False\n",
              "6002    False\n",
              "6003    False\n",
              "6004    False\n",
              "Length: 6005, dtype: bool"
            ]
          },
          "metadata": {},
          "execution_count": 14
        }
      ],
      "source": [
        "hiv_df.duplicated()"
      ]
    },
    {
      "cell_type": "code",
      "execution_count": 15,
      "metadata": {
        "colab": {
          "base_uri": "https://localhost:8080/",
          "height": 423
        },
        "id": "eVNNFVdm31mW",
        "outputId": "bf1bbbf3-2b70-4dd3-b628-6bb39484b46b"
      },
      "outputs": [
        {
          "output_type": "execute_result",
          "data": {
            "text/plain": [
              "          Age       Gender             Race  HIV_diagnoses  \\\n",
              "0         All          All              All           3379   \n",
              "1         All         Male              All           2595   \n",
              "2         All       Female              All            733   \n",
              "3         All  Transgender              All             51   \n",
              "4     13 - 19       Female              All             47   \n",
              "...       ...          ...              ...            ...   \n",
              "5999      All         Male              All              4   \n",
              "6001      All         Male            Black              1   \n",
              "6002      All         Male  Latino/Hispanic              2   \n",
              "6003      All         Male    Other/Unknown              1   \n",
              "6004      All         Male            White              0   \n",
              "\n",
              "      Concurrent_diagnoses  percentage_viral_suppression  \\\n",
              "0                      640                            71   \n",
              "1                      480                            72   \n",
              "2                      153                            68   \n",
              "3                        7                            55   \n",
              "4                        4                            57   \n",
              "...                    ...                           ...   \n",
              "5999                     0                            90   \n",
              "6001                     0                            80   \n",
              "6002                     0                            87   \n",
              "6003                     0                           100   \n",
              "6004                     0                            93   \n",
              "\n",
              "      HIV_related_death_rate  \n",
              "0                        5.8  \n",
              "1                        5.7  \n",
              "2                        6.0  \n",
              "3                        5.7  \n",
              "4                        1.4  \n",
              "...                      ...  \n",
              "5999                 99999.0  \n",
              "6001                 99999.0  \n",
              "6002                 99999.0  \n",
              "6003                 99999.0  \n",
              "6004                 99999.0  \n",
              "\n",
              "[4948 rows x 7 columns]"
            ],
            "text/html": [
              "\n",
              "  <div id=\"df-14aeb2f5-9050-4366-b641-bb5aae22a04d\">\n",
              "    <div class=\"colab-df-container\">\n",
              "      <div>\n",
              "<style scoped>\n",
              "    .dataframe tbody tr th:only-of-type {\n",
              "        vertical-align: middle;\n",
              "    }\n",
              "\n",
              "    .dataframe tbody tr th {\n",
              "        vertical-align: top;\n",
              "    }\n",
              "\n",
              "    .dataframe thead th {\n",
              "        text-align: right;\n",
              "    }\n",
              "</style>\n",
              "<table border=\"1\" class=\"dataframe\">\n",
              "  <thead>\n",
              "    <tr style=\"text-align: right;\">\n",
              "      <th></th>\n",
              "      <th>Age</th>\n",
              "      <th>Gender</th>\n",
              "      <th>Race</th>\n",
              "      <th>HIV_diagnoses</th>\n",
              "      <th>Concurrent_diagnoses</th>\n",
              "      <th>percentage_viral_suppression</th>\n",
              "      <th>HIV_related_death_rate</th>\n",
              "    </tr>\n",
              "  </thead>\n",
              "  <tbody>\n",
              "    <tr>\n",
              "      <th>0</th>\n",
              "      <td>All</td>\n",
              "      <td>All</td>\n",
              "      <td>All</td>\n",
              "      <td>3379</td>\n",
              "      <td>640</td>\n",
              "      <td>71</td>\n",
              "      <td>5.8</td>\n",
              "    </tr>\n",
              "    <tr>\n",
              "      <th>1</th>\n",
              "      <td>All</td>\n",
              "      <td>Male</td>\n",
              "      <td>All</td>\n",
              "      <td>2595</td>\n",
              "      <td>480</td>\n",
              "      <td>72</td>\n",
              "      <td>5.7</td>\n",
              "    </tr>\n",
              "    <tr>\n",
              "      <th>2</th>\n",
              "      <td>All</td>\n",
              "      <td>Female</td>\n",
              "      <td>All</td>\n",
              "      <td>733</td>\n",
              "      <td>153</td>\n",
              "      <td>68</td>\n",
              "      <td>6.0</td>\n",
              "    </tr>\n",
              "    <tr>\n",
              "      <th>3</th>\n",
              "      <td>All</td>\n",
              "      <td>Transgender</td>\n",
              "      <td>All</td>\n",
              "      <td>51</td>\n",
              "      <td>7</td>\n",
              "      <td>55</td>\n",
              "      <td>5.7</td>\n",
              "    </tr>\n",
              "    <tr>\n",
              "      <th>4</th>\n",
              "      <td>13 - 19</td>\n",
              "      <td>Female</td>\n",
              "      <td>All</td>\n",
              "      <td>47</td>\n",
              "      <td>4</td>\n",
              "      <td>57</td>\n",
              "      <td>1.4</td>\n",
              "    </tr>\n",
              "    <tr>\n",
              "      <th>...</th>\n",
              "      <td>...</td>\n",
              "      <td>...</td>\n",
              "      <td>...</td>\n",
              "      <td>...</td>\n",
              "      <td>...</td>\n",
              "      <td>...</td>\n",
              "      <td>...</td>\n",
              "    </tr>\n",
              "    <tr>\n",
              "      <th>5999</th>\n",
              "      <td>All</td>\n",
              "      <td>Male</td>\n",
              "      <td>All</td>\n",
              "      <td>4</td>\n",
              "      <td>0</td>\n",
              "      <td>90</td>\n",
              "      <td>99999.0</td>\n",
              "    </tr>\n",
              "    <tr>\n",
              "      <th>6001</th>\n",
              "      <td>All</td>\n",
              "      <td>Male</td>\n",
              "      <td>Black</td>\n",
              "      <td>1</td>\n",
              "      <td>0</td>\n",
              "      <td>80</td>\n",
              "      <td>99999.0</td>\n",
              "    </tr>\n",
              "    <tr>\n",
              "      <th>6002</th>\n",
              "      <td>All</td>\n",
              "      <td>Male</td>\n",
              "      <td>Latino/Hispanic</td>\n",
              "      <td>2</td>\n",
              "      <td>0</td>\n",
              "      <td>87</td>\n",
              "      <td>99999.0</td>\n",
              "    </tr>\n",
              "    <tr>\n",
              "      <th>6003</th>\n",
              "      <td>All</td>\n",
              "      <td>Male</td>\n",
              "      <td>Other/Unknown</td>\n",
              "      <td>1</td>\n",
              "      <td>0</td>\n",
              "      <td>100</td>\n",
              "      <td>99999.0</td>\n",
              "    </tr>\n",
              "    <tr>\n",
              "      <th>6004</th>\n",
              "      <td>All</td>\n",
              "      <td>Male</td>\n",
              "      <td>White</td>\n",
              "      <td>0</td>\n",
              "      <td>0</td>\n",
              "      <td>93</td>\n",
              "      <td>99999.0</td>\n",
              "    </tr>\n",
              "  </tbody>\n",
              "</table>\n",
              "<p>4948 rows × 7 columns</p>\n",
              "</div>\n",
              "      <button class=\"colab-df-convert\" onclick=\"convertToInteractive('df-14aeb2f5-9050-4366-b641-bb5aae22a04d')\"\n",
              "              title=\"Convert this dataframe to an interactive table.\"\n",
              "              style=\"display:none;\">\n",
              "        \n",
              "  <svg xmlns=\"http://www.w3.org/2000/svg\" height=\"24px\"viewBox=\"0 0 24 24\"\n",
              "       width=\"24px\">\n",
              "    <path d=\"M0 0h24v24H0V0z\" fill=\"none\"/>\n",
              "    <path d=\"M18.56 5.44l.94 2.06.94-2.06 2.06-.94-2.06-.94-.94-2.06-.94 2.06-2.06.94zm-11 1L8.5 8.5l.94-2.06 2.06-.94-2.06-.94L8.5 2.5l-.94 2.06-2.06.94zm10 10l.94 2.06.94-2.06 2.06-.94-2.06-.94-.94-2.06-.94 2.06-2.06.94z\"/><path d=\"M17.41 7.96l-1.37-1.37c-.4-.4-.92-.59-1.43-.59-.52 0-1.04.2-1.43.59L10.3 9.45l-7.72 7.72c-.78.78-.78 2.05 0 2.83L4 21.41c.39.39.9.59 1.41.59.51 0 1.02-.2 1.41-.59l7.78-7.78 2.81-2.81c.8-.78.8-2.07 0-2.86zM5.41 20L4 18.59l7.72-7.72 1.47 1.35L5.41 20z\"/>\n",
              "  </svg>\n",
              "      </button>\n",
              "      \n",
              "  <style>\n",
              "    .colab-df-container {\n",
              "      display:flex;\n",
              "      flex-wrap:wrap;\n",
              "      gap: 12px;\n",
              "    }\n",
              "\n",
              "    .colab-df-convert {\n",
              "      background-color: #E8F0FE;\n",
              "      border: none;\n",
              "      border-radius: 50%;\n",
              "      cursor: pointer;\n",
              "      display: none;\n",
              "      fill: #1967D2;\n",
              "      height: 32px;\n",
              "      padding: 0 0 0 0;\n",
              "      width: 32px;\n",
              "    }\n",
              "\n",
              "    .colab-df-convert:hover {\n",
              "      background-color: #E2EBFA;\n",
              "      box-shadow: 0px 1px 2px rgba(60, 64, 67, 0.3), 0px 1px 3px 1px rgba(60, 64, 67, 0.15);\n",
              "      fill: #174EA6;\n",
              "    }\n",
              "\n",
              "    [theme=dark] .colab-df-convert {\n",
              "      background-color: #3B4455;\n",
              "      fill: #D2E3FC;\n",
              "    }\n",
              "\n",
              "    [theme=dark] .colab-df-convert:hover {\n",
              "      background-color: #434B5C;\n",
              "      box-shadow: 0px 1px 3px 1px rgba(0, 0, 0, 0.15);\n",
              "      filter: drop-shadow(0px 1px 2px rgba(0, 0, 0, 0.3));\n",
              "      fill: #FFFFFF;\n",
              "    }\n",
              "  </style>\n",
              "\n",
              "      <script>\n",
              "        const buttonEl =\n",
              "          document.querySelector('#df-14aeb2f5-9050-4366-b641-bb5aae22a04d button.colab-df-convert');\n",
              "        buttonEl.style.display =\n",
              "          google.colab.kernel.accessAllowed ? 'block' : 'none';\n",
              "\n",
              "        async function convertToInteractive(key) {\n",
              "          const element = document.querySelector('#df-14aeb2f5-9050-4366-b641-bb5aae22a04d');\n",
              "          const dataTable =\n",
              "            await google.colab.kernel.invokeFunction('convertToInteractive',\n",
              "                                                     [key], {});\n",
              "          if (!dataTable) return;\n",
              "\n",
              "          const docLinkHtml = 'Like what you see? Visit the ' +\n",
              "            '<a target=\"_blank\" href=https://colab.research.google.com/notebooks/data_table.ipynb>data table notebook</a>'\n",
              "            + ' to learn more about interactive tables.';\n",
              "          element.innerHTML = '';\n",
              "          dataTable['output_type'] = 'display_data';\n",
              "          await google.colab.output.renderOutput(dataTable, element);\n",
              "          const docLink = document.createElement('div');\n",
              "          docLink.innerHTML = docLinkHtml;\n",
              "          element.appendChild(docLink);\n",
              "        }\n",
              "      </script>\n",
              "    </div>\n",
              "  </div>\n",
              "  "
            ]
          },
          "metadata": {},
          "execution_count": 15
        }
      ],
      "source": [
        "# drop duplicates\n",
        "\n",
        "hiv_df.drop_duplicates(subset=None, keep='first', inplace=False, ignore_index=False)"
      ]
    },
    {
      "cell_type": "markdown",
      "metadata": {
        "id": "1btIBzDF4Vea"
      },
      "source": [
        "# Statistical tests "
      ]
    },
    {
      "cell_type": "markdown",
      "metadata": {
        "id": "-XMhpWFcL6_Z"
      },
      "source": [
        "# Perfoming fisher's test"
      ]
    },
    {
      "cell_type": "code",
      "execution_count": 16,
      "metadata": {
        "colab": {
          "base_uri": "https://localhost:8080/",
          "height": 423
        },
        "id": "r0I0O4WYGksq",
        "outputId": "02872177-4316-4ea2-973c-6766a9047805"
      },
      "outputs": [
        {
          "output_type": "execute_result",
          "data": {
            "text/plain": [
              "           Gender  HIV_diagnoses  Concurrent_diagnoses\n",
              "0             All           3379                   640\n",
              "1            Male           2595                   480\n",
              "2          Female            733                   153\n",
              "3     Transgender             51                     7\n",
              "4          Female             47                     4\n",
              "...           ...            ...                   ...\n",
              "6000         Male              0                     0\n",
              "6001         Male              1                     0\n",
              "6002         Male              2                     0\n",
              "6003         Male              1                     0\n",
              "6004         Male              0                     0\n",
              "\n",
              "[6005 rows x 3 columns]"
            ],
            "text/html": [
              "\n",
              "  <div id=\"df-28bffbe0-77e7-4bf8-9491-cc3419d29e12\">\n",
              "    <div class=\"colab-df-container\">\n",
              "      <div>\n",
              "<style scoped>\n",
              "    .dataframe tbody tr th:only-of-type {\n",
              "        vertical-align: middle;\n",
              "    }\n",
              "\n",
              "    .dataframe tbody tr th {\n",
              "        vertical-align: top;\n",
              "    }\n",
              "\n",
              "    .dataframe thead th {\n",
              "        text-align: right;\n",
              "    }\n",
              "</style>\n",
              "<table border=\"1\" class=\"dataframe\">\n",
              "  <thead>\n",
              "    <tr style=\"text-align: right;\">\n",
              "      <th></th>\n",
              "      <th>Gender</th>\n",
              "      <th>HIV_diagnoses</th>\n",
              "      <th>Concurrent_diagnoses</th>\n",
              "    </tr>\n",
              "  </thead>\n",
              "  <tbody>\n",
              "    <tr>\n",
              "      <th>0</th>\n",
              "      <td>All</td>\n",
              "      <td>3379</td>\n",
              "      <td>640</td>\n",
              "    </tr>\n",
              "    <tr>\n",
              "      <th>1</th>\n",
              "      <td>Male</td>\n",
              "      <td>2595</td>\n",
              "      <td>480</td>\n",
              "    </tr>\n",
              "    <tr>\n",
              "      <th>2</th>\n",
              "      <td>Female</td>\n",
              "      <td>733</td>\n",
              "      <td>153</td>\n",
              "    </tr>\n",
              "    <tr>\n",
              "      <th>3</th>\n",
              "      <td>Transgender</td>\n",
              "      <td>51</td>\n",
              "      <td>7</td>\n",
              "    </tr>\n",
              "    <tr>\n",
              "      <th>4</th>\n",
              "      <td>Female</td>\n",
              "      <td>47</td>\n",
              "      <td>4</td>\n",
              "    </tr>\n",
              "    <tr>\n",
              "      <th>...</th>\n",
              "      <td>...</td>\n",
              "      <td>...</td>\n",
              "      <td>...</td>\n",
              "    </tr>\n",
              "    <tr>\n",
              "      <th>6000</th>\n",
              "      <td>Male</td>\n",
              "      <td>0</td>\n",
              "      <td>0</td>\n",
              "    </tr>\n",
              "    <tr>\n",
              "      <th>6001</th>\n",
              "      <td>Male</td>\n",
              "      <td>1</td>\n",
              "      <td>0</td>\n",
              "    </tr>\n",
              "    <tr>\n",
              "      <th>6002</th>\n",
              "      <td>Male</td>\n",
              "      <td>2</td>\n",
              "      <td>0</td>\n",
              "    </tr>\n",
              "    <tr>\n",
              "      <th>6003</th>\n",
              "      <td>Male</td>\n",
              "      <td>1</td>\n",
              "      <td>0</td>\n",
              "    </tr>\n",
              "    <tr>\n",
              "      <th>6004</th>\n",
              "      <td>Male</td>\n",
              "      <td>0</td>\n",
              "      <td>0</td>\n",
              "    </tr>\n",
              "  </tbody>\n",
              "</table>\n",
              "<p>6005 rows × 3 columns</p>\n",
              "</div>\n",
              "      <button class=\"colab-df-convert\" onclick=\"convertToInteractive('df-28bffbe0-77e7-4bf8-9491-cc3419d29e12')\"\n",
              "              title=\"Convert this dataframe to an interactive table.\"\n",
              "              style=\"display:none;\">\n",
              "        \n",
              "  <svg xmlns=\"http://www.w3.org/2000/svg\" height=\"24px\"viewBox=\"0 0 24 24\"\n",
              "       width=\"24px\">\n",
              "    <path d=\"M0 0h24v24H0V0z\" fill=\"none\"/>\n",
              "    <path d=\"M18.56 5.44l.94 2.06.94-2.06 2.06-.94-2.06-.94-.94-2.06-.94 2.06-2.06.94zm-11 1L8.5 8.5l.94-2.06 2.06-.94-2.06-.94L8.5 2.5l-.94 2.06-2.06.94zm10 10l.94 2.06.94-2.06 2.06-.94-2.06-.94-.94-2.06-.94 2.06-2.06.94z\"/><path d=\"M17.41 7.96l-1.37-1.37c-.4-.4-.92-.59-1.43-.59-.52 0-1.04.2-1.43.59L10.3 9.45l-7.72 7.72c-.78.78-.78 2.05 0 2.83L4 21.41c.39.39.9.59 1.41.59.51 0 1.02-.2 1.41-.59l7.78-7.78 2.81-2.81c.8-.78.8-2.07 0-2.86zM5.41 20L4 18.59l7.72-7.72 1.47 1.35L5.41 20z\"/>\n",
              "  </svg>\n",
              "      </button>\n",
              "      \n",
              "  <style>\n",
              "    .colab-df-container {\n",
              "      display:flex;\n",
              "      flex-wrap:wrap;\n",
              "      gap: 12px;\n",
              "    }\n",
              "\n",
              "    .colab-df-convert {\n",
              "      background-color: #E8F0FE;\n",
              "      border: none;\n",
              "      border-radius: 50%;\n",
              "      cursor: pointer;\n",
              "      display: none;\n",
              "      fill: #1967D2;\n",
              "      height: 32px;\n",
              "      padding: 0 0 0 0;\n",
              "      width: 32px;\n",
              "    }\n",
              "\n",
              "    .colab-df-convert:hover {\n",
              "      background-color: #E2EBFA;\n",
              "      box-shadow: 0px 1px 2px rgba(60, 64, 67, 0.3), 0px 1px 3px 1px rgba(60, 64, 67, 0.15);\n",
              "      fill: #174EA6;\n",
              "    }\n",
              "\n",
              "    [theme=dark] .colab-df-convert {\n",
              "      background-color: #3B4455;\n",
              "      fill: #D2E3FC;\n",
              "    }\n",
              "\n",
              "    [theme=dark] .colab-df-convert:hover {\n",
              "      background-color: #434B5C;\n",
              "      box-shadow: 0px 1px 3px 1px rgba(0, 0, 0, 0.15);\n",
              "      filter: drop-shadow(0px 1px 2px rgba(0, 0, 0, 0.3));\n",
              "      fill: #FFFFFF;\n",
              "    }\n",
              "  </style>\n",
              "\n",
              "      <script>\n",
              "        const buttonEl =\n",
              "          document.querySelector('#df-28bffbe0-77e7-4bf8-9491-cc3419d29e12 button.colab-df-convert');\n",
              "        buttonEl.style.display =\n",
              "          google.colab.kernel.accessAllowed ? 'block' : 'none';\n",
              "\n",
              "        async function convertToInteractive(key) {\n",
              "          const element = document.querySelector('#df-28bffbe0-77e7-4bf8-9491-cc3419d29e12');\n",
              "          const dataTable =\n",
              "            await google.colab.kernel.invokeFunction('convertToInteractive',\n",
              "                                                     [key], {});\n",
              "          if (!dataTable) return;\n",
              "\n",
              "          const docLinkHtml = 'Like what you see? Visit the ' +\n",
              "            '<a target=\"_blank\" href=https://colab.research.google.com/notebooks/data_table.ipynb>data table notebook</a>'\n",
              "            + ' to learn more about interactive tables.';\n",
              "          element.innerHTML = '';\n",
              "          dataTable['output_type'] = 'display_data';\n",
              "          await google.colab.output.renderOutput(dataTable, element);\n",
              "          const docLink = document.createElement('div');\n",
              "          docLink.innerHTML = docLinkHtml;\n",
              "          element.appendChild(docLink);\n",
              "        }\n",
              "      </script>\n",
              "    </div>\n",
              "  </div>\n",
              "  "
            ]
          },
          "metadata": {},
          "execution_count": 16
        }
      ],
      "source": [
        "df_fisher = hiv_df.filter(['Gender', 'HIV_diagnoses', 'Concurrent_diagnoses'])\n",
        "df_fisher"
      ]
    },
    {
      "cell_type": "code",
      "execution_count": 17,
      "metadata": {
        "colab": {
          "base_uri": "https://localhost:8080/",
          "height": 174
        },
        "id": "FqmvBnq1JpGa",
        "outputId": "693be393-b83f-4fd2-c6a2-1ebbb22d5e3f"
      },
      "outputs": [
        {
          "output_type": "display_data",
          "data": {
            "text/plain": [
              "        Gender  HIV_diagnoses  Concurrent_diagnoses\n",
              "0          All          39775                  7649\n",
              "1       Female          25844                  5409\n",
              "2         Male          93251                 17514\n",
              "3  Transgender            230                    24"
            ],
            "text/html": [
              "\n",
              "  <div id=\"df-8e9ba4cc-a385-4828-be15-0c233b835ad8\">\n",
              "    <div class=\"colab-df-container\">\n",
              "      <div>\n",
              "<style scoped>\n",
              "    .dataframe tbody tr th:only-of-type {\n",
              "        vertical-align: middle;\n",
              "    }\n",
              "\n",
              "    .dataframe tbody tr th {\n",
              "        vertical-align: top;\n",
              "    }\n",
              "\n",
              "    .dataframe thead th {\n",
              "        text-align: right;\n",
              "    }\n",
              "</style>\n",
              "<table border=\"1\" class=\"dataframe\">\n",
              "  <thead>\n",
              "    <tr style=\"text-align: right;\">\n",
              "      <th></th>\n",
              "      <th>Gender</th>\n",
              "      <th>HIV_diagnoses</th>\n",
              "      <th>Concurrent_diagnoses</th>\n",
              "    </tr>\n",
              "  </thead>\n",
              "  <tbody>\n",
              "    <tr>\n",
              "      <th>0</th>\n",
              "      <td>All</td>\n",
              "      <td>39775</td>\n",
              "      <td>7649</td>\n",
              "    </tr>\n",
              "    <tr>\n",
              "      <th>1</th>\n",
              "      <td>Female</td>\n",
              "      <td>25844</td>\n",
              "      <td>5409</td>\n",
              "    </tr>\n",
              "    <tr>\n",
              "      <th>2</th>\n",
              "      <td>Male</td>\n",
              "      <td>93251</td>\n",
              "      <td>17514</td>\n",
              "    </tr>\n",
              "    <tr>\n",
              "      <th>3</th>\n",
              "      <td>Transgender</td>\n",
              "      <td>230</td>\n",
              "      <td>24</td>\n",
              "    </tr>\n",
              "  </tbody>\n",
              "</table>\n",
              "</div>\n",
              "      <button class=\"colab-df-convert\" onclick=\"convertToInteractive('df-8e9ba4cc-a385-4828-be15-0c233b835ad8')\"\n",
              "              title=\"Convert this dataframe to an interactive table.\"\n",
              "              style=\"display:none;\">\n",
              "        \n",
              "  <svg xmlns=\"http://www.w3.org/2000/svg\" height=\"24px\"viewBox=\"0 0 24 24\"\n",
              "       width=\"24px\">\n",
              "    <path d=\"M0 0h24v24H0V0z\" fill=\"none\"/>\n",
              "    <path d=\"M18.56 5.44l.94 2.06.94-2.06 2.06-.94-2.06-.94-.94-2.06-.94 2.06-2.06.94zm-11 1L8.5 8.5l.94-2.06 2.06-.94-2.06-.94L8.5 2.5l-.94 2.06-2.06.94zm10 10l.94 2.06.94-2.06 2.06-.94-2.06-.94-.94-2.06-.94 2.06-2.06.94z\"/><path d=\"M17.41 7.96l-1.37-1.37c-.4-.4-.92-.59-1.43-.59-.52 0-1.04.2-1.43.59L10.3 9.45l-7.72 7.72c-.78.78-.78 2.05 0 2.83L4 21.41c.39.39.9.59 1.41.59.51 0 1.02-.2 1.41-.59l7.78-7.78 2.81-2.81c.8-.78.8-2.07 0-2.86zM5.41 20L4 18.59l7.72-7.72 1.47 1.35L5.41 20z\"/>\n",
              "  </svg>\n",
              "      </button>\n",
              "      \n",
              "  <style>\n",
              "    .colab-df-container {\n",
              "      display:flex;\n",
              "      flex-wrap:wrap;\n",
              "      gap: 12px;\n",
              "    }\n",
              "\n",
              "    .colab-df-convert {\n",
              "      background-color: #E8F0FE;\n",
              "      border: none;\n",
              "      border-radius: 50%;\n",
              "      cursor: pointer;\n",
              "      display: none;\n",
              "      fill: #1967D2;\n",
              "      height: 32px;\n",
              "      padding: 0 0 0 0;\n",
              "      width: 32px;\n",
              "    }\n",
              "\n",
              "    .colab-df-convert:hover {\n",
              "      background-color: #E2EBFA;\n",
              "      box-shadow: 0px 1px 2px rgba(60, 64, 67, 0.3), 0px 1px 3px 1px rgba(60, 64, 67, 0.15);\n",
              "      fill: #174EA6;\n",
              "    }\n",
              "\n",
              "    [theme=dark] .colab-df-convert {\n",
              "      background-color: #3B4455;\n",
              "      fill: #D2E3FC;\n",
              "    }\n",
              "\n",
              "    [theme=dark] .colab-df-convert:hover {\n",
              "      background-color: #434B5C;\n",
              "      box-shadow: 0px 1px 3px 1px rgba(0, 0, 0, 0.15);\n",
              "      filter: drop-shadow(0px 1px 2px rgba(0, 0, 0, 0.3));\n",
              "      fill: #FFFFFF;\n",
              "    }\n",
              "  </style>\n",
              "\n",
              "      <script>\n",
              "        const buttonEl =\n",
              "          document.querySelector('#df-8e9ba4cc-a385-4828-be15-0c233b835ad8 button.colab-df-convert');\n",
              "        buttonEl.style.display =\n",
              "          google.colab.kernel.accessAllowed ? 'block' : 'none';\n",
              "\n",
              "        async function convertToInteractive(key) {\n",
              "          const element = document.querySelector('#df-8e9ba4cc-a385-4828-be15-0c233b835ad8');\n",
              "          const dataTable =\n",
              "            await google.colab.kernel.invokeFunction('convertToInteractive',\n",
              "                                                     [key], {});\n",
              "          if (!dataTable) return;\n",
              "\n",
              "          const docLinkHtml = 'Like what you see? Visit the ' +\n",
              "            '<a target=\"_blank\" href=https://colab.research.google.com/notebooks/data_table.ipynb>data table notebook</a>'\n",
              "            + ' to learn more about interactive tables.';\n",
              "          element.innerHTML = '';\n",
              "          dataTable['output_type'] = 'display_data';\n",
              "          await google.colab.output.renderOutput(dataTable, element);\n",
              "          const docLink = document.createElement('div');\n",
              "          docLink.innerHTML = docLinkHtml;\n",
              "          element.appendChild(docLink);\n",
              "        }\n",
              "      </script>\n",
              "    </div>\n",
              "  </div>\n",
              "  "
            ]
          },
          "metadata": {}
        }
      ],
      "source": [
        "# group gender and smoking\n",
        "df_hd = df_fisher.groupby([\"Gender\"]).HIV_diagnoses.sum().reset_index()\n",
        "# group gender and alcohol\n",
        "df_cd = df_fisher.groupby([\"Gender\"]).Concurrent_diagnoses.sum().reset_index()\n",
        "# join the two dataframe\n",
        "df_fsh = pd.concat([df_hd, df_cd['Concurrent_diagnoses']], axis=1, join='inner')\n",
        "display(df_fsh)"
      ]
    },
    {
      "cell_type": "code",
      "execution_count": 18,
      "metadata": {
        "colab": {
          "base_uri": "https://localhost:8080/",
          "height": 112
        },
        "id": "-FYuEQl1MyZ7",
        "outputId": "1b83642f-45fe-47e4-ca56-a89c42139331"
      },
      "outputs": [
        {
          "output_type": "execute_result",
          "data": {
            "text/plain": [
              "   HIV_diagnoses  Concurrent_diagnoses\n",
              "1          25844                  5409\n",
              "2          93251                 17514"
            ],
            "text/html": [
              "\n",
              "  <div id=\"df-bce25add-6f2f-4e98-aaf4-2cacf441a364\">\n",
              "    <div class=\"colab-df-container\">\n",
              "      <div>\n",
              "<style scoped>\n",
              "    .dataframe tbody tr th:only-of-type {\n",
              "        vertical-align: middle;\n",
              "    }\n",
              "\n",
              "    .dataframe tbody tr th {\n",
              "        vertical-align: top;\n",
              "    }\n",
              "\n",
              "    .dataframe thead th {\n",
              "        text-align: right;\n",
              "    }\n",
              "</style>\n",
              "<table border=\"1\" class=\"dataframe\">\n",
              "  <thead>\n",
              "    <tr style=\"text-align: right;\">\n",
              "      <th></th>\n",
              "      <th>HIV_diagnoses</th>\n",
              "      <th>Concurrent_diagnoses</th>\n",
              "    </tr>\n",
              "  </thead>\n",
              "  <tbody>\n",
              "    <tr>\n",
              "      <th>1</th>\n",
              "      <td>25844</td>\n",
              "      <td>5409</td>\n",
              "    </tr>\n",
              "    <tr>\n",
              "      <th>2</th>\n",
              "      <td>93251</td>\n",
              "      <td>17514</td>\n",
              "    </tr>\n",
              "  </tbody>\n",
              "</table>\n",
              "</div>\n",
              "      <button class=\"colab-df-convert\" onclick=\"convertToInteractive('df-bce25add-6f2f-4e98-aaf4-2cacf441a364')\"\n",
              "              title=\"Convert this dataframe to an interactive table.\"\n",
              "              style=\"display:none;\">\n",
              "        \n",
              "  <svg xmlns=\"http://www.w3.org/2000/svg\" height=\"24px\"viewBox=\"0 0 24 24\"\n",
              "       width=\"24px\">\n",
              "    <path d=\"M0 0h24v24H0V0z\" fill=\"none\"/>\n",
              "    <path d=\"M18.56 5.44l.94 2.06.94-2.06 2.06-.94-2.06-.94-.94-2.06-.94 2.06-2.06.94zm-11 1L8.5 8.5l.94-2.06 2.06-.94-2.06-.94L8.5 2.5l-.94 2.06-2.06.94zm10 10l.94 2.06.94-2.06 2.06-.94-2.06-.94-.94-2.06-.94 2.06-2.06.94z\"/><path d=\"M17.41 7.96l-1.37-1.37c-.4-.4-.92-.59-1.43-.59-.52 0-1.04.2-1.43.59L10.3 9.45l-7.72 7.72c-.78.78-.78 2.05 0 2.83L4 21.41c.39.39.9.59 1.41.59.51 0 1.02-.2 1.41-.59l7.78-7.78 2.81-2.81c.8-.78.8-2.07 0-2.86zM5.41 20L4 18.59l7.72-7.72 1.47 1.35L5.41 20z\"/>\n",
              "  </svg>\n",
              "      </button>\n",
              "      \n",
              "  <style>\n",
              "    .colab-df-container {\n",
              "      display:flex;\n",
              "      flex-wrap:wrap;\n",
              "      gap: 12px;\n",
              "    }\n",
              "\n",
              "    .colab-df-convert {\n",
              "      background-color: #E8F0FE;\n",
              "      border: none;\n",
              "      border-radius: 50%;\n",
              "      cursor: pointer;\n",
              "      display: none;\n",
              "      fill: #1967D2;\n",
              "      height: 32px;\n",
              "      padding: 0 0 0 0;\n",
              "      width: 32px;\n",
              "    }\n",
              "\n",
              "    .colab-df-convert:hover {\n",
              "      background-color: #E2EBFA;\n",
              "      box-shadow: 0px 1px 2px rgba(60, 64, 67, 0.3), 0px 1px 3px 1px rgba(60, 64, 67, 0.15);\n",
              "      fill: #174EA6;\n",
              "    }\n",
              "\n",
              "    [theme=dark] .colab-df-convert {\n",
              "      background-color: #3B4455;\n",
              "      fill: #D2E3FC;\n",
              "    }\n",
              "\n",
              "    [theme=dark] .colab-df-convert:hover {\n",
              "      background-color: #434B5C;\n",
              "      box-shadow: 0px 1px 3px 1px rgba(0, 0, 0, 0.15);\n",
              "      filter: drop-shadow(0px 1px 2px rgba(0, 0, 0, 0.3));\n",
              "      fill: #FFFFFF;\n",
              "    }\n",
              "  </style>\n",
              "\n",
              "      <script>\n",
              "        const buttonEl =\n",
              "          document.querySelector('#df-bce25add-6f2f-4e98-aaf4-2cacf441a364 button.colab-df-convert');\n",
              "        buttonEl.style.display =\n",
              "          google.colab.kernel.accessAllowed ? 'block' : 'none';\n",
              "\n",
              "        async function convertToInteractive(key) {\n",
              "          const element = document.querySelector('#df-bce25add-6f2f-4e98-aaf4-2cacf441a364');\n",
              "          const dataTable =\n",
              "            await google.colab.kernel.invokeFunction('convertToInteractive',\n",
              "                                                     [key], {});\n",
              "          if (!dataTable) return;\n",
              "\n",
              "          const docLinkHtml = 'Like what you see? Visit the ' +\n",
              "            '<a target=\"_blank\" href=https://colab.research.google.com/notebooks/data_table.ipynb>data table notebook</a>'\n",
              "            + ' to learn more about interactive tables.';\n",
              "          element.innerHTML = '';\n",
              "          dataTable['output_type'] = 'display_data';\n",
              "          await google.colab.output.renderOutput(dataTable, element);\n",
              "          const docLink = document.createElement('div');\n",
              "          docLink.innerHTML = docLinkHtml;\n",
              "          element.appendChild(docLink);\n",
              "        }\n",
              "      </script>\n",
              "    </div>\n",
              "  </div>\n",
              "  "
            ]
          },
          "metadata": {},
          "execution_count": 18
        }
      ],
      "source": [
        "# dropping columns and rows not needed\n",
        "df_fsh = df_fsh.iloc[1:3, 1:]\n",
        "df_fsh"
      ]
    },
    {
      "cell_type": "code",
      "execution_count": 19,
      "metadata": {
        "colab": {
          "base_uri": "https://localhost:8080/"
        },
        "id": "udrKIk97MHye",
        "outputId": "65cf6347-203a-4fef-c6f1-c2ef016daa46"
      },
      "outputs": [
        {
          "output_type": "stream",
          "name": "stdout",
          "text": [
            "the odd ratio is: 0.8973763062784533\n",
            "the p value is: 2.915982281323395e-10\n"
          ]
        }
      ],
      "source": [
        "# importing packages\n",
        "import scipy.stats as stats\n",
        "\n",
        "# doing fisher's test\n",
        "odd_ratio, p_value = stats.fisher_exact(df_fsh)\n",
        "print('the odd ratio is: ' + str(odd_ratio))\n",
        "print('the p value is: ' + str(p_value))"
      ]
    },
    {
      "cell_type": "markdown",
      "metadata": {
        "id": "rwZkdtqa4Xxe"
      },
      "source": [
        "# Performing Statistical T-test"
      ]
    },
    {
      "cell_type": "code",
      "execution_count": 20,
      "metadata": {
        "colab": {
          "base_uri": "https://localhost:8080/",
          "height": 206
        },
        "id": "CcFqw_GH4bBu",
        "outputId": "cbaa01b9-2858-476c-89fc-625f3e9a91d3"
      },
      "outputs": [
        {
          "output_type": "execute_result",
          "data": {
            "text/plain": [
              "        Gender Race  HIV_diagnoses  Concurrent_diagnoses\n",
              "0          All  All           3379                   640\n",
              "1         Male  All           2595                   480\n",
              "2       Female  All            733                   153\n",
              "3  Transgender  All             51                     7\n",
              "4       Female  All             47                     4"
            ],
            "text/html": [
              "\n",
              "  <div id=\"df-0011c42f-d685-44a3-a697-2c447c70f1f4\">\n",
              "    <div class=\"colab-df-container\">\n",
              "      <div>\n",
              "<style scoped>\n",
              "    .dataframe tbody tr th:only-of-type {\n",
              "        vertical-align: middle;\n",
              "    }\n",
              "\n",
              "    .dataframe tbody tr th {\n",
              "        vertical-align: top;\n",
              "    }\n",
              "\n",
              "    .dataframe thead th {\n",
              "        text-align: right;\n",
              "    }\n",
              "</style>\n",
              "<table border=\"1\" class=\"dataframe\">\n",
              "  <thead>\n",
              "    <tr style=\"text-align: right;\">\n",
              "      <th></th>\n",
              "      <th>Gender</th>\n",
              "      <th>Race</th>\n",
              "      <th>HIV_diagnoses</th>\n",
              "      <th>Concurrent_diagnoses</th>\n",
              "    </tr>\n",
              "  </thead>\n",
              "  <tbody>\n",
              "    <tr>\n",
              "      <th>0</th>\n",
              "      <td>All</td>\n",
              "      <td>All</td>\n",
              "      <td>3379</td>\n",
              "      <td>640</td>\n",
              "    </tr>\n",
              "    <tr>\n",
              "      <th>1</th>\n",
              "      <td>Male</td>\n",
              "      <td>All</td>\n",
              "      <td>2595</td>\n",
              "      <td>480</td>\n",
              "    </tr>\n",
              "    <tr>\n",
              "      <th>2</th>\n",
              "      <td>Female</td>\n",
              "      <td>All</td>\n",
              "      <td>733</td>\n",
              "      <td>153</td>\n",
              "    </tr>\n",
              "    <tr>\n",
              "      <th>3</th>\n",
              "      <td>Transgender</td>\n",
              "      <td>All</td>\n",
              "      <td>51</td>\n",
              "      <td>7</td>\n",
              "    </tr>\n",
              "    <tr>\n",
              "      <th>4</th>\n",
              "      <td>Female</td>\n",
              "      <td>All</td>\n",
              "      <td>47</td>\n",
              "      <td>4</td>\n",
              "    </tr>\n",
              "  </tbody>\n",
              "</table>\n",
              "</div>\n",
              "      <button class=\"colab-df-convert\" onclick=\"convertToInteractive('df-0011c42f-d685-44a3-a697-2c447c70f1f4')\"\n",
              "              title=\"Convert this dataframe to an interactive table.\"\n",
              "              style=\"display:none;\">\n",
              "        \n",
              "  <svg xmlns=\"http://www.w3.org/2000/svg\" height=\"24px\"viewBox=\"0 0 24 24\"\n",
              "       width=\"24px\">\n",
              "    <path d=\"M0 0h24v24H0V0z\" fill=\"none\"/>\n",
              "    <path d=\"M18.56 5.44l.94 2.06.94-2.06 2.06-.94-2.06-.94-.94-2.06-.94 2.06-2.06.94zm-11 1L8.5 8.5l.94-2.06 2.06-.94-2.06-.94L8.5 2.5l-.94 2.06-2.06.94zm10 10l.94 2.06.94-2.06 2.06-.94-2.06-.94-.94-2.06-.94 2.06-2.06.94z\"/><path d=\"M17.41 7.96l-1.37-1.37c-.4-.4-.92-.59-1.43-.59-.52 0-1.04.2-1.43.59L10.3 9.45l-7.72 7.72c-.78.78-.78 2.05 0 2.83L4 21.41c.39.39.9.59 1.41.59.51 0 1.02-.2 1.41-.59l7.78-7.78 2.81-2.81c.8-.78.8-2.07 0-2.86zM5.41 20L4 18.59l7.72-7.72 1.47 1.35L5.41 20z\"/>\n",
              "  </svg>\n",
              "      </button>\n",
              "      \n",
              "  <style>\n",
              "    .colab-df-container {\n",
              "      display:flex;\n",
              "      flex-wrap:wrap;\n",
              "      gap: 12px;\n",
              "    }\n",
              "\n",
              "    .colab-df-convert {\n",
              "      background-color: #E8F0FE;\n",
              "      border: none;\n",
              "      border-radius: 50%;\n",
              "      cursor: pointer;\n",
              "      display: none;\n",
              "      fill: #1967D2;\n",
              "      height: 32px;\n",
              "      padding: 0 0 0 0;\n",
              "      width: 32px;\n",
              "    }\n",
              "\n",
              "    .colab-df-convert:hover {\n",
              "      background-color: #E2EBFA;\n",
              "      box-shadow: 0px 1px 2px rgba(60, 64, 67, 0.3), 0px 1px 3px 1px rgba(60, 64, 67, 0.15);\n",
              "      fill: #174EA6;\n",
              "    }\n",
              "\n",
              "    [theme=dark] .colab-df-convert {\n",
              "      background-color: #3B4455;\n",
              "      fill: #D2E3FC;\n",
              "    }\n",
              "\n",
              "    [theme=dark] .colab-df-convert:hover {\n",
              "      background-color: #434B5C;\n",
              "      box-shadow: 0px 1px 3px 1px rgba(0, 0, 0, 0.15);\n",
              "      filter: drop-shadow(0px 1px 2px rgba(0, 0, 0, 0.3));\n",
              "      fill: #FFFFFF;\n",
              "    }\n",
              "  </style>\n",
              "\n",
              "      <script>\n",
              "        const buttonEl =\n",
              "          document.querySelector('#df-0011c42f-d685-44a3-a697-2c447c70f1f4 button.colab-df-convert');\n",
              "        buttonEl.style.display =\n",
              "          google.colab.kernel.accessAllowed ? 'block' : 'none';\n",
              "\n",
              "        async function convertToInteractive(key) {\n",
              "          const element = document.querySelector('#df-0011c42f-d685-44a3-a697-2c447c70f1f4');\n",
              "          const dataTable =\n",
              "            await google.colab.kernel.invokeFunction('convertToInteractive',\n",
              "                                                     [key], {});\n",
              "          if (!dataTable) return;\n",
              "\n",
              "          const docLinkHtml = 'Like what you see? Visit the ' +\n",
              "            '<a target=\"_blank\" href=https://colab.research.google.com/notebooks/data_table.ipynb>data table notebook</a>'\n",
              "            + ' to learn more about interactive tables.';\n",
              "          element.innerHTML = '';\n",
              "          dataTable['output_type'] = 'display_data';\n",
              "          await google.colab.output.renderOutput(dataTable, element);\n",
              "          const docLink = document.createElement('div');\n",
              "          docLink.innerHTML = docLinkHtml;\n",
              "          element.appendChild(docLink);\n",
              "        }\n",
              "      </script>\n",
              "    </div>\n",
              "  </div>\n",
              "  "
            ]
          },
          "metadata": {},
          "execution_count": 20
        }
      ],
      "source": [
        "# filter data for t-test analysis\n",
        "ttest_data = hiv_df.filter(['Gender', 'Race', 'HIV_diagnoses', 'Concurrent_diagnoses'])\n",
        "ttest_data.head()"
      ]
    },
    {
      "cell_type": "markdown",
      "metadata": {
        "id": "uKnr_Doz7VZB"
      },
      "source": [
        "T-test on gender and HIV diagnoses"
      ]
    },
    {
      "cell_type": "code",
      "execution_count": 21,
      "metadata": {
        "colab": {
          "base_uri": "https://localhost:8080/"
        },
        "id": "t5YP75md8pKV",
        "outputId": "f4e65f34-ce81-4a37-c7b8-5b35523ef728"
      },
      "outputs": [
        {
          "output_type": "stream",
          "name": "stdout",
          "text": [
            "Collecting researchpy\n",
            "  Downloading researchpy-0.3.2-py3-none-any.whl (15 kB)\n",
            "Requirement already satisfied: pandas in /usr/local/lib/python3.7/dist-packages (from researchpy) (1.3.5)\n",
            "Requirement already satisfied: statsmodels in /usr/local/lib/python3.7/dist-packages (from researchpy) (0.10.2)\n",
            "Requirement already satisfied: patsy in /usr/local/lib/python3.7/dist-packages (from researchpy) (0.5.2)\n",
            "Requirement already satisfied: scipy in /usr/local/lib/python3.7/dist-packages (from researchpy) (1.4.1)\n",
            "Requirement already satisfied: numpy in /usr/local/lib/python3.7/dist-packages (from researchpy) (1.21.6)\n",
            "Requirement already satisfied: python-dateutil>=2.7.3 in /usr/local/lib/python3.7/dist-packages (from pandas->researchpy) (2.8.2)\n",
            "Requirement already satisfied: pytz>=2017.3 in /usr/local/lib/python3.7/dist-packages (from pandas->researchpy) (2022.1)\n",
            "Requirement already satisfied: six>=1.5 in /usr/local/lib/python3.7/dist-packages (from python-dateutil>=2.7.3->pandas->researchpy) (1.15.0)\n",
            "Installing collected packages: researchpy\n",
            "Successfully installed researchpy-0.3.2\n"
          ]
        }
      ],
      "source": [
        "# install researchpy\n",
        "!pip install researchpy"
      ]
    },
    {
      "cell_type": "code",
      "execution_count": 22,
      "metadata": {
        "colab": {
          "base_uri": "https://localhost:8080/"
        },
        "id": "nSagHBHJ7acd",
        "outputId": "05967e84-440e-4cda-e2ae-3f45bdd97831"
      },
      "outputs": [
        {
          "output_type": "stream",
          "name": "stderr",
          "text": [
            "/usr/local/lib/python3.7/dist-packages/statsmodels/tools/_testing.py:19: FutureWarning: pandas.util.testing is deprecated. Use the functions in the public API at pandas.testing instead.\n",
            "  import pandas.util.testing as tm\n"
          ]
        },
        {
          "output_type": "execute_result",
          "data": {
            "text/plain": [
              "(   Variable       N       Mean          SD        SE  95% Conf.   Interval\n",
              " 0      Male  2880.0  32.378819  129.139996  2.406382  27.660414  37.097225\n",
              " 1    Female  2880.0   8.973611   35.773932  0.666608   7.666534  10.280688\n",
              " 2  combined  5760.0  20.676215   95.466602  1.257883  18.210292  23.142139,\n",
              "               Independent t-test    results\n",
              " 0  Difference (Male - Female) =     23.4052\n",
              " 1          Degrees of freedom =   5758.0000\n",
              " 2                           t =      9.3733\n",
              " 3       Two side test p value =      0.0000\n",
              " 4      Difference < 0 p value =      1.0000\n",
              " 5      Difference > 0 p value =      0.0000\n",
              " 6                   Cohen's d =      0.2470\n",
              " 7                   Hedge's g =      0.2470\n",
              " 8               Glass's delta =      0.1812\n",
              " 9                 Pearson's r =      0.1226)"
            ]
          },
          "metadata": {},
          "execution_count": 22
        }
      ],
      "source": [
        "import researchpy as rp\n",
        "\n",
        "# group data\n",
        "male = ttest_data.query('Gender == \"Male\"')['HIV_diagnoses']\n",
        "female = ttest_data.query('Gender == \"Female\"')['HIV_diagnoses']\n",
        "ttest_data.groupby('Gender').describe()\n",
        "\n",
        "# T-test for HIV diagnoses\n",
        "rp.ttest(group1= ttest_data['HIV_diagnoses'][ttest_data['Gender'] == 'Male'], group1_name= \"Male\",\n",
        "         group2= ttest_data['HIV_diagnoses'][ttest_data['Gender'] == 'Female'], group2_name= \"Female\")\n",
        "\n"
      ]
    },
    {
      "cell_type": "code",
      "execution_count": 23,
      "metadata": {
        "colab": {
          "base_uri": "https://localhost:8080/"
        },
        "id": "TMOhbz878Gt9",
        "outputId": "23deedbc-9705-4a6a-9afd-f48da60eddb3"
      },
      "outputs": [
        {
          "output_type": "execute_result",
          "data": {
            "text/plain": [
              "(   Variable       N      Mean         SD        SE  95% Conf.  Interval\n",
              " 0      Male  2880.0  6.081250  23.592722  0.439624   5.219240  6.943260\n",
              " 1    Female  2880.0  1.878125   7.728598  0.144014   1.595744  2.160506\n",
              " 2  combined  5760.0  3.979687  17.678736  0.232938   3.523042  4.436333,\n",
              "               Independent t-test    results\n",
              " 0  Difference (Male - Female) =      4.2031\n",
              " 1          Degrees of freedom =   5758.0000\n",
              " 2                           t =      9.0856\n",
              " 3       Two side test p value =      0.0000\n",
              " 4      Difference < 0 p value =      1.0000\n",
              " 5      Difference > 0 p value =      0.0000\n",
              " 6                   Cohen's d =      0.2394\n",
              " 7                   Hedge's g =      0.2394\n",
              " 8               Glass's delta =      0.1782\n",
              " 9                 Pearson's r =      0.1189)"
            ]
          },
          "metadata": {},
          "execution_count": 23
        }
      ],
      "source": [
        "# T-test for Concurrent diagnoses\n",
        "rp.ttest(group1= ttest_data['Concurrent_diagnoses'][ttest_data['Gender'] == 'Male'], group1_name= \"Male\",\n",
        "         group2= ttest_data['Concurrent_diagnoses'][ttest_data['Gender'] == 'Female'], group2_name= \"Female\")"
      ]
    },
    {
      "cell_type": "code",
      "source": [
        "hiv_data.isnull().sum()"
      ],
      "metadata": {
        "colab": {
          "base_uri": "https://localhost:8080/"
        },
        "id": "7VvgOXp57HEm",
        "outputId": "7c5dda88-0ce3-437e-b683-5c0a9e08910a"
      },
      "execution_count": 24,
      "outputs": [
        {
          "output_type": "execute_result",
          "data": {
            "text/plain": [
              "Year                                0\n",
              "Borough                             0\n",
              "UHF                                 0\n",
              "Gender                              0\n",
              "Age                                 0\n",
              "Race                                0\n",
              "HIV diagnoses                       0\n",
              "HIV diagnosis rate                  0\n",
              "Concurrent diagnoses                0\n",
              "% linked to care within 3 months    0\n",
              "AIDS diagnoses                      0\n",
              "AIDS diagnosis rate                 0\n",
              "PLWDHI prevalence                   0\n",
              "% viral suppression                 0\n",
              "Deaths                              0\n",
              "Death rate                          0\n",
              "HIV-related death rate              0\n",
              "Non-HIV-related death rate          0\n",
              "dtype: int64"
            ]
          },
          "metadata": {},
          "execution_count": 24
        }
      ]
    },
    {
      "cell_type": "markdown",
      "metadata": {
        "id": "xMTbFBP_839K"
      },
      "source": [
        "# Normality test"
      ]
    },
    {
      "cell_type": "code",
      "execution_count": 25,
      "metadata": {
        "colab": {
          "base_uri": "https://localhost:8080/"
        },
        "id": "voOELSoV8Jzj",
        "outputId": "b437c5a5-56a2-4e85-c29b-77525aa4990f"
      },
      "outputs": [
        {
          "output_type": "stream",
          "name": "stdout",
          "text": [
            "<class 'pandas.core.frame.DataFrame'>\n",
            "RangeIndex: 6005 entries, 0 to 6004\n",
            "Data columns (total 8 columns):\n",
            " #   Column                                     Non-Null Count  Dtype\n",
            "---  ------                                     --------------  -----\n",
            " 0   Age                                        6005 non-null   int8 \n",
            " 1   HIV_diagnoses                              6005 non-null   int16\n",
            " 2   HIV_diagnosis_rate                         6005 non-null   int16\n",
            " 3   Concurrent_diagnoses                       6005 non-null   int16\n",
            " 4   percentage_linked_to_care_within_3_months  6005 non-null   int8 \n",
            " 5   percentage_viral_suppression               6005 non-null   int8 \n",
            " 6   Deaths                                     6005 non-null   int16\n",
            " 7   HIV_related_death_rate                     6005 non-null   int16\n",
            "dtypes: int16(5), int8(3)\n",
            "memory usage: 76.4 KB\n",
            "None\n"
          ]
        }
      ],
      "source": [
        "# filter the variables to be used\n",
        "from scipy.stats import normaltest\n",
        "\n",
        "df_nom = hiv_data.filter(['Age', 'HIV diagnoses', 'HIV diagnosis rate', \n",
        "                          'Concurrent diagnoses', '% linked to care within 3 months', \n",
        "                          '% viral suppression', 'Deaths', 'HIV-related death rate'])\n",
        "\n",
        "\n",
        "# remove special character\n",
        "df_nom.columns = df_nom.columns.str.replace('-', '_')\n",
        "df_nom.columns = df_nom.columns.str.replace('%', 'percentage')\n",
        "df_nom.columns = df_nom.columns.str.rstrip()\n",
        "df_nom.columns = df_nom.columns.str.replace(' ', '_')\n",
        "\n",
        "# convert to numerical\n",
        "df_nom = df_nom.astype('category')\n",
        "wd_column = df_nom.select_dtypes(['category']).columns\n",
        "df_nom[wd_column] = df_nom[wd_column].apply(lambda x: x.cat.codes)\n",
        "print(df_nom.info())\n"
      ]
    },
    {
      "cell_type": "code",
      "execution_count": 26,
      "metadata": {
        "colab": {
          "base_uri": "https://localhost:8080/"
        },
        "id": "S_GUIW1x9GsH",
        "outputId": "3231baa5-5bcc-4920-e444-6a6448f97b9f"
      },
      "outputs": [
        {
          "output_type": "stream",
          "name": "stdout",
          "text": [
            "Statistics = 2684.892, p = 0.000\n",
            "HIV related death rate data does not look Gaussian (reject H0)\n"
          ]
        }
      ],
      "source": [
        "# do the normality test\n",
        "from scipy.stats import normaltest\n",
        "# normality test\n",
        "stat, p = normaltest(df_nom)\n",
        "print('Statistics = %.3f, p = %.3f' % (stat.mean(), p.mean()))\n",
        "# interpret results\n",
        "alpha = 0.05\n",
        "if p.all() > alpha:\n",
        "    print('HIV related death rate data looks Gaussian (fail to reject H0)')\n",
        "else:\n",
        "    print('HIV related death rate data does not look Gaussian (reject H0)')"
      ]
    },
    {
      "cell_type": "markdown",
      "metadata": {
        "id": "xQUiuBGCNlSZ"
      },
      "source": [
        "# Data analysis and visualization"
      ]
    },
    {
      "cell_type": "markdown",
      "metadata": {
        "id": "U8NrmmfINsp1"
      },
      "source": [
        "import the needed libraries"
      ]
    },
    {
      "cell_type": "code",
      "execution_count": 27,
      "metadata": {
        "id": "6YuReGe6OS9P"
      },
      "outputs": [],
      "source": [
        "from sklearn.linear_model import LogisticRegression\n",
        "from sklearn.model_selection import train_test_split\n",
        "from matplotlib import pyplot as plt\n",
        "import seaborn as sns\n",
        "from sklearn import preprocessing\n",
        "from sklearn.metrics import accuracy_score, classification_report, confusion_matrix"
      ]
    },
    {
      "cell_type": "markdown",
      "metadata": {
        "id": "uQJq2UK7R3W8"
      },
      "source": [
        "# 1.\tLogistic Regression model"
      ]
    },
    {
      "cell_type": "markdown",
      "metadata": {
        "id": "Ssqdtj_JR6Fb"
      },
      "source": [
        "filter out the required variables"
      ]
    },
    {
      "cell_type": "code",
      "execution_count": 28,
      "metadata": {
        "colab": {
          "base_uri": "https://localhost:8080/"
        },
        "id": "6yVh2ab_R9IP",
        "outputId": "8dfbdab2-98fa-42cb-edb0-9b0e56977a33"
      },
      "outputs": [
        {
          "output_type": "stream",
          "name": "stdout",
          "text": [
            "       Age  HIV_diagnoses  HIV_diagnosis_rate  Concurrent_diagnoses  \\\n",
            "0      All           3379                48.3                   640   \n",
            "1      All           2595                79.1                   480   \n",
            "2      All            733                21.1                   153   \n",
            "3      All             51             99999.0                     7   \n",
            "4  13 - 19             47                13.6                     4   \n",
            "\n",
            "   percentage_linked_to_care_within_3_months  percentage_viral_suppression  \\\n",
            "0                                         66                            71   \n",
            "1                                         66                            72   \n",
            "2                                         66                            68   \n",
            "3                                         63                            55   \n",
            "4                                         64                            57   \n",
            "\n",
            "   Deaths  HIV_related_death_rate  \n",
            "0    2040                     5.8  \n",
            "1    1423                     5.7  \n",
            "2     605                     6.0  \n",
            "3      12                     5.7  \n",
            "4       1                     1.4  \n",
            "Age                                           object\n",
            "HIV_diagnoses                                  int64\n",
            "HIV_diagnosis_rate                           float64\n",
            "Concurrent_diagnoses                           int64\n",
            "percentage_linked_to_care_within_3_months      int64\n",
            "percentage_viral_suppression                   int64\n",
            "Deaths                                         int64\n",
            "HIV_related_death_rate                       float64\n",
            "dtype: object\n"
          ]
        }
      ],
      "source": [
        "data_logreg_model = hiv_data.filter(['Age', 'HIV diagnoses', 'HIV diagnosis rate', \n",
        "                          'Concurrent diagnoses', '% linked to care within 3 months', \n",
        "                          '% viral suppression', 'Deaths', 'HIV-related death rate'])\n",
        "\n",
        "# remove special character\n",
        "data_logreg_model.columns = data_logreg_model.columns.str.replace('-', '_')\n",
        "data_logreg_model.columns = data_logreg_model.columns.str.replace('%', 'percentage')\n",
        "data_logreg_model.columns = data_logreg_model.columns.str.rstrip()\n",
        "data_logreg_model.columns = data_logreg_model.columns.str.replace(' ', '_')\n",
        "\n",
        "print(data_logreg_model.head())\n",
        "print(data_logreg_model.dtypes)"
      ]
    },
    {
      "cell_type": "code",
      "execution_count": 29,
      "metadata": {
        "colab": {
          "base_uri": "https://localhost:8080/"
        },
        "id": "-J01ZNLDXLrT",
        "outputId": "34244613-dc41-4eae-b2bc-e9fd9064922e"
      },
      "outputs": [
        {
          "output_type": "stream",
          "name": "stdout",
          "text": [
            "   Age  HIV_diagnoses  HIV_diagnosis_rate  Concurrent_diagnoses  \\\n",
            "0    6            295                 473                   126   \n",
            "1    6            291                 741                   122   \n",
            "2    6            266                 205                   109   \n",
            "3    6             51                1335                     7   \n",
            "4    0             47                 130                     4   \n",
            "\n",
            "   percentage_linked_to_care_within_3_months  percentage_viral_suppression  \\\n",
            "0                                         34                            47   \n",
            "1                                         34                            48   \n",
            "2                                         34                            44   \n",
            "3                                         31                            31   \n",
            "4                                         32                            33   \n",
            "\n",
            "   Deaths  HIV_related_death_rate  \n",
            "0     231                      57  \n",
            "1     226                      56  \n",
            "2     219                      59  \n",
            "3      12                      56  \n",
            "4       1                      13  \n"
          ]
        }
      ],
      "source": [
        "# convert to numerical\n",
        "data_logreg_model = data_logreg_model.astype('category')\n",
        "wd_column = data_logreg_model.select_dtypes(['category']).columns\n",
        "data_logreg_model[wd_column] = data_logreg_model[wd_column].apply(lambda x: x.cat.codes)\n",
        "print(data_logreg_model.head())"
      ]
    },
    {
      "cell_type": "code",
      "execution_count": 30,
      "metadata": {
        "id": "iEctgbMsSjvT"
      },
      "outputs": [],
      "source": [
        "# splitting the data to training and testing\n",
        "\n",
        "y = data_logreg_model['HIV_related_death_rate']\n",
        "x = data_logreg_model.drop(['HIV_related_death_rate'], axis = 1)\n",
        "\n",
        "X_train, X_test, y_train, y_test = train_test_split(x, y, test_size=0.20, random_state=5)\n"
      ]
    },
    {
      "cell_type": "code",
      "execution_count": 31,
      "metadata": {
        "id": "2-aZsiTJVtVF"
      },
      "outputs": [],
      "source": [
        "# scalling the data\n",
        "scaler = preprocessing.StandardScaler().fit(X_train)\n",
        "X_train_scaled = scaler.transform(X_train)"
      ]
    },
    {
      "cell_type": "markdown",
      "metadata": {
        "id": "OER-EEVccpbt"
      },
      "source": [
        "Visualize the data for logistics regression"
      ]
    },
    {
      "cell_type": "code",
      "execution_count": 32,
      "metadata": {
        "colab": {
          "base_uri": "https://localhost:8080/",
          "height": 512
        },
        "id": "WaavODSUcrgJ",
        "outputId": "5f4d3a6b-fb84-413f-a190-2dc654edbf81"
      },
      "outputs": [
        {
          "output_type": "display_data",
          "data": {
            "text/plain": [
              "<Figure size 2736x1152 with 2 Axes>"
            ],
            "image/png": "[encoded data removed]"
          },
          "metadata": {
            "needs_background": "light"
          }
        }
      ],
      "source": [
        "plt.figure(figsize = (38,16))\n",
        "sns.heatmap(data_logreg_model.corr(), annot = True)\n",
        "plt.savefig('heatmapgraph.png')\n",
        "plt.show()"
      ]
    },
    {
      "cell_type": "markdown",
      "metadata": {
        "id": "YSFQSWKqfljn"
      },
      "source": [
        "build and train the model"
      ]
    },
    {
      "cell_type": "code",
      "execution_count": 33,
      "metadata": {
        "colab": {
          "base_uri": "https://localhost:8080/"
        },
        "id": "ry1hw4tpfpNm",
        "outputId": "c0612d6a-2ac5-414e-ea71-4e1fe4469ea1"
      },
      "outputs": [
        {
          "output_type": "stream",
          "name": "stderr",
          "text": [
            "/usr/local/lib/python3.7/dist-packages/sklearn/linear_model/_logistic.py:818: ConvergenceWarning: lbfgs failed to converge (status=1):\n",
            "STOP: TOTAL NO. of ITERATIONS REACHED LIMIT.\n",
            "\n",
            "Increase the number of iterations (max_iter) or scale the data as shown in:\n",
            "    https://scikit-learn.org/stable/modules/preprocessing.html\n",
            "Please also refer to the documentation for alternative solver options:\n",
            "    https://scikit-learn.org/stable/modules/linear_model.html#logistic-regression\n",
            "  extra_warning_msg=_LOGISTIC_SOLVER_CONVERGENCE_MSG,\n"
          ]
        },
        {
          "output_type": "execute_result",
          "data": {
            "text/plain": [
              "LogisticRegression()"
            ]
          },
          "metadata": {},
          "execution_count": 33
        }
      ],
      "source": [
        "# building the model\n",
        "model = LogisticRegression()\n",
        "# train model\n",
        "model.fit(X_train_scaled, y_train)"
      ]
    },
    {
      "cell_type": "markdown",
      "source": [
        "evaluating the model"
      ],
      "metadata": {
        "id": "V73AWVuM-Uk5"
      }
    },
    {
      "cell_type": "code",
      "execution_count": 34,
      "metadata": {
        "colab": {
          "base_uri": "https://localhost:8080/"
        },
        "id": "k8uhgG7HgG5f",
        "outputId": "3b07c265-f5a0-40c4-8f4f-b06d7a18e1dc"
      },
      "outputs": [
        {
          "output_type": "stream",
          "name": "stdout",
          "text": [
            "The Accuracy is 46.79433805162365\n"
          ]
        }
      ],
      "source": [
        "# evaluating the model\n",
        "train_acc = model.score(X_train_scaled, y_train)\n",
        "print(\"The Accuracy is {}\".format(train_acc*100))"
      ]
    },
    {
      "cell_type": "code",
      "execution_count": 35,
      "metadata": {
        "colab": {
          "base_uri": "https://localhost:8080/"
        },
        "id": "YQdSHUQTjZzH",
        "outputId": "9f2e0f3d-6998-46ea-8a3d-87bc1d022d65"
      },
      "outputs": [
        {
          "output_type": "stream",
          "name": "stderr",
          "text": [
            "/usr/local/lib/python3.7/dist-packages/sklearn/base.py:444: UserWarning: X has feature names, but LogisticRegression was fitted without feature names\n",
            "  f\"X has feature names, but {self.__class__.__name__} was fitted without\"\n"
          ]
        },
        {
          "output_type": "execute_result",
          "data": {
            "text/plain": [
              "array([  1,   1,   1, ...,   1, 224,   1], dtype=int16)"
            ]
          },
          "metadata": {},
          "execution_count": 35
        }
      ],
      "source": [
        "y_pred = model.predict(X_test)\n",
        "y_pred"
      ]
    },
    {
      "cell_type": "markdown",
      "metadata": {
        "id": "2-eucKpBnNZM"
      },
      "source": [
        "# 2.\tRandom Forest Classifier Model"
      ]
    },
    {
      "cell_type": "markdown",
      "metadata": {
        "id": "kAw8n8x2nmqS"
      },
      "source": [
        "prepared data with the needed variables"
      ]
    },
    {
      "cell_type": "code",
      "execution_count": 36,
      "metadata": {
        "colab": {
          "base_uri": "https://localhost:8080/",
          "height": 285
        },
        "id": "NQI16hqxnqYG",
        "outputId": "2099903d-75db-4b88-e494-347573d678ea"
      },
      "outputs": [
        {
          "output_type": "execute_result",
          "data": {
            "text/plain": [
              "       Age  HIV_diagnoses  HIV_diagnosis_rate  Concurrent_diagnoses  \\\n",
              "0      All           3379                48.3                   640   \n",
              "1      All           2595                79.1                   480   \n",
              "2      All            733                21.1                   153   \n",
              "3      All             51             99999.0                     7   \n",
              "4  13 - 19             47                13.6                     4   \n",
              "\n",
              "   %_linked_to_care_within_3_months  %_viral_suppression  Deaths  \\\n",
              "0                                66                   71    2040   \n",
              "1                                66                   72    1423   \n",
              "2                                66                   68     605   \n",
              "3                                63                   55      12   \n",
              "4                                64                   57       1   \n",
              "\n",
              "   HIV_related_death_rate  \n",
              "0                     5.8  \n",
              "1                     5.7  \n",
              "2                     6.0  \n",
              "3                     5.7  \n",
              "4                     1.4  "
            ],
            "text/html": [
              "\n",
              "  <div id=\"df-90aaec3e-b416-4d77-a9e6-3f7676ac7dd4\">\n",
              "    <div class=\"colab-df-container\">\n",
              "      <div>\n",
              "<style scoped>\n",
              "    .dataframe tbody tr th:only-of-type {\n",
              "        vertical-align: middle;\n",
              "    }\n",
              "\n",
              "    .dataframe tbody tr th {\n",
              "        vertical-align: top;\n",
              "    }\n",
              "\n",
              "    .dataframe thead th {\n",
              "        text-align: right;\n",
              "    }\n",
              "</style>\n",
              "<table border=\"1\" class=\"dataframe\">\n",
              "  <thead>\n",
              "    <tr style=\"text-align: right;\">\n",
              "      <th></th>\n",
              "      <th>Age</th>\n",
              "      <th>HIV_diagnoses</th>\n",
              "      <th>HIV_diagnosis_rate</th>\n",
              "      <th>Concurrent_diagnoses</th>\n",
              "      <th>%_linked_to_care_within_3_months</th>\n",
              "      <th>%_viral_suppression</th>\n",
              "      <th>Deaths</th>\n",
              "      <th>HIV_related_death_rate</th>\n",
              "    </tr>\n",
              "  </thead>\n",
              "  <tbody>\n",
              "    <tr>\n",
              "      <th>0</th>\n",
              "      <td>All</td>\n",
              "      <td>3379</td>\n",
              "      <td>48.3</td>\n",
              "      <td>640</td>\n",
              "      <td>66</td>\n",
              "      <td>71</td>\n",
              "      <td>2040</td>\n",
              "      <td>5.8</td>\n",
              "    </tr>\n",
              "    <tr>\n",
              "      <th>1</th>\n",
              "      <td>All</td>\n",
              "      <td>2595</td>\n",
              "      <td>79.1</td>\n",
              "      <td>480</td>\n",
              "      <td>66</td>\n",
              "      <td>72</td>\n",
              "      <td>1423</td>\n",
              "      <td>5.7</td>\n",
              "    </tr>\n",
              "    <tr>\n",
              "      <th>2</th>\n",
              "      <td>All</td>\n",
              "      <td>733</td>\n",
              "      <td>21.1</td>\n",
              "      <td>153</td>\n",
              "      <td>66</td>\n",
              "      <td>68</td>\n",
              "      <td>605</td>\n",
              "      <td>6.0</td>\n",
              "    </tr>\n",
              "    <tr>\n",
              "      <th>3</th>\n",
              "      <td>All</td>\n",
              "      <td>51</td>\n",
              "      <td>99999.0</td>\n",
              "      <td>7</td>\n",
              "      <td>63</td>\n",
              "      <td>55</td>\n",
              "      <td>12</td>\n",
              "      <td>5.7</td>\n",
              "    </tr>\n",
              "    <tr>\n",
              "      <th>4</th>\n",
              "      <td>13 - 19</td>\n",
              "      <td>47</td>\n",
              "      <td>13.6</td>\n",
              "      <td>4</td>\n",
              "      <td>64</td>\n",
              "      <td>57</td>\n",
              "      <td>1</td>\n",
              "      <td>1.4</td>\n",
              "    </tr>\n",
              "  </tbody>\n",
              "</table>\n",
              "</div>\n",
              "      <button class=\"colab-df-convert\" onclick=\"convertToInteractive('df-90aaec3e-b416-4d77-a9e6-3f7676ac7dd4')\"\n",
              "              title=\"Convert this dataframe to an interactive table.\"\n",
              "              style=\"display:none;\">\n",
              "        \n",
              "  <svg xmlns=\"http://www.w3.org/2000/svg\" height=\"24px\"viewBox=\"0 0 24 24\"\n",
              "       width=\"24px\">\n",
              "    <path d=\"M0 0h24v24H0V0z\" fill=\"none\"/>\n",
              "    <path d=\"M18.56 5.44l.94 2.06.94-2.06 2.06-.94-2.06-.94-.94-2.06-.94 2.06-2.06.94zm-11 1L8.5 8.5l.94-2.06 2.06-.94-2.06-.94L8.5 2.5l-.94 2.06-2.06.94zm10 10l.94 2.06.94-2.06 2.06-.94-2.06-.94-.94-2.06-.94 2.06-2.06.94z\"/><path d=\"M17.41 7.96l-1.37-1.37c-.4-.4-.92-.59-1.43-.59-.52 0-1.04.2-1.43.59L10.3 9.45l-7.72 7.72c-.78.78-.78 2.05 0 2.83L4 21.41c.39.39.9.59 1.41.59.51 0 1.02-.2 1.41-.59l7.78-7.78 2.81-2.81c.8-.78.8-2.07 0-2.86zM5.41 20L4 18.59l7.72-7.72 1.47 1.35L5.41 20z\"/>\n",
              "  </svg>\n",
              "      </button>\n",
              "      \n",
              "  <style>\n",
              "    .colab-df-container {\n",
              "      display:flex;\n",
              "      flex-wrap:wrap;\n",
              "      gap: 12px;\n",
              "    }\n",
              "\n",
              "    .colab-df-convert {\n",
              "      background-color: #E8F0FE;\n",
              "      border: none;\n",
              "      border-radius: 50%;\n",
              "      cursor: pointer;\n",
              "      display: none;\n",
              "      fill: #1967D2;\n",
              "      height: 32px;\n",
              "      padding: 0 0 0 0;\n",
              "      width: 32px;\n",
              "    }\n",
              "\n",
              "    .colab-df-convert:hover {\n",
              "      background-color: #E2EBFA;\n",
              "      box-shadow: 0px 1px 2px rgba(60, 64, 67, 0.3), 0px 1px 3px 1px rgba(60, 64, 67, 0.15);\n",
              "      fill: #174EA6;\n",
              "    }\n",
              "\n",
              "    [theme=dark] .colab-df-convert {\n",
              "      background-color: #3B4455;\n",
              "      fill: #D2E3FC;\n",
              "    }\n",
              "\n",
              "    [theme=dark] .colab-df-convert:hover {\n",
              "      background-color: #434B5C;\n",
              "      box-shadow: 0px 1px 3px 1px rgba(0, 0, 0, 0.15);\n",
              "      filter: drop-shadow(0px 1px 2px rgba(0, 0, 0, 0.3));\n",
              "      fill: #FFFFFF;\n",
              "    }\n",
              "  </style>\n",
              "\n",
              "      <script>\n",
              "        const buttonEl =\n",
              "          document.querySelector('#df-90aaec3e-b416-4d77-a9e6-3f7676ac7dd4 button.colab-df-convert');\n",
              "        buttonEl.style.display =\n",
              "          google.colab.kernel.accessAllowed ? 'block' : 'none';\n",
              "\n",
              "        async function convertToInteractive(key) {\n",
              "          const element = document.querySelector('#df-90aaec3e-b416-4d77-a9e6-3f7676ac7dd4');\n",
              "          const dataTable =\n",
              "            await google.colab.kernel.invokeFunction('convertToInteractive',\n",
              "                                                     [key], {});\n",
              "          if (!dataTable) return;\n",
              "\n",
              "          const docLinkHtml = 'Like what you see? Visit the ' +\n",
              "            '<a target=\"_blank\" href=https://colab.research.google.com/notebooks/data_table.ipynb>data table notebook</a>'\n",
              "            + ' to learn more about interactive tables.';\n",
              "          element.innerHTML = '';\n",
              "          dataTable['output_type'] = 'display_data';\n",
              "          await google.colab.output.renderOutput(dataTable, element);\n",
              "          const docLink = document.createElement('div');\n",
              "          docLink.innerHTML = docLinkHtml;\n",
              "          element.appendChild(docLink);\n",
              "        }\n",
              "      </script>\n",
              "    </div>\n",
              "  </div>\n",
              "  "
            ]
          },
          "metadata": {},
          "execution_count": 36
        }
      ],
      "source": [
        "#Import Random Forest Model\n",
        "from sklearn.ensemble import RandomForestClassifier\n",
        "from sklearn import metrics\n",
        "import numpy as np\n",
        "data_rfm = hiv_data.filter(['Age', 'HIV diagnoses', 'HIV diagnosis rate', \n",
        "                          'Concurrent diagnoses', '% linked to care within 3 months', \n",
        "                          '% viral suppression', 'Deaths', 'HIV-related death rate'])\n",
        "\n",
        "# remove special character\n",
        "data_rfm.columns = data_rfm.columns.str.replace('-', '_')\n",
        "data_rfm.columns = data_rfm.columns.str.rstrip()\n",
        "data_rfm.columns = data_rfm.columns.str.replace(' ', '_')\n",
        "\n",
        "data_rfm.head()"
      ]
    },
    {
      "cell_type": "code",
      "execution_count": 37,
      "metadata": {
        "id": "N9zTsztxoCB3",
        "colab": {
          "base_uri": "https://localhost:8080/"
        },
        "outputId": "483d3dad-963c-44e9-a63f-494567f9db66"
      },
      "outputs": [
        {
          "output_type": "stream",
          "name": "stdout",
          "text": [
            "   Age  HIV_diagnoses  HIV_diagnosis_rate  Concurrent_diagnoses  \\\n",
            "0    6            295                 473                   126   \n",
            "1    6            291                 741                   122   \n",
            "2    6            266                 205                   109   \n",
            "3    6             51                1335                     7   \n",
            "4    0             47                 130                     4   \n",
            "\n",
            "   %_linked_to_care_within_3_months  %_viral_suppression  Deaths  \\\n",
            "0                                34                   47     231   \n",
            "1                                34                   48     226   \n",
            "2                                34                   44     219   \n",
            "3                                31                   31      12   \n",
            "4                                32                   33       1   \n",
            "\n",
            "   HIV_related_death_rate  \n",
            "0                      57  \n",
            "1                      56  \n",
            "2                      59  \n",
            "3                      56  \n",
            "4                      13  \n"
          ]
        }
      ],
      "source": [
        "# convert to numerical\n",
        "data_rfm = data_rfm.astype('category')\n",
        "wd_column = data_rfm.select_dtypes(['category']).columns\n",
        "data_rfm[wd_column] = data_rfm[wd_column].apply(lambda x: x.cat.codes)\n",
        "print(data_rfm.head())\n",
        "\n",
        "# splitting to training and test\n",
        "y = data_rfm['HIV_related_death_rate']\n",
        "x = data_rfm.drop(['HIV_related_death_rate'], axis = 1)\n",
        "\n",
        "X_train, X_test, y_train, y_test = train_test_split(x, y, test_size=0.20, random_state=5)\n"
      ]
    },
    {
      "cell_type": "code",
      "execution_count": 38,
      "metadata": {
        "id": "qwypWK3doNge",
        "colab": {
          "base_uri": "https://localhost:8080/"
        },
        "outputId": "dc1021f0-7a7c-4bdb-8a42-473abf9404d1"
      },
      "outputs": [
        {
          "output_type": "execute_result",
          "data": {
            "text/plain": [
              "RandomForestClassifier(n_estimators=120)"
            ]
          },
          "metadata": {},
          "execution_count": 38
        }
      ],
      "source": [
        "\n",
        "#Create a Gaussian Classifier\n",
        "model = RandomForestClassifier(n_estimators=120)\n",
        "\n",
        "#Train the model using the training sets y_pred=clf.predict(X_test)\n",
        "model.fit(X_train,y_train)\n"
      ]
    },
    {
      "cell_type": "code",
      "execution_count": 39,
      "metadata": {
        "id": "3gzs0R6vodIZ",
        "colab": {
          "base_uri": "https://localhost:8080/"
        },
        "outputId": "8bb31f1c-e069-4916-cb5e-767b69251a41"
      },
      "outputs": [
        {
          "output_type": "execute_result",
          "data": {
            "text/plain": [
              "array([  0,  37, 290, ...,   0,   0,  61], dtype=int16)"
            ]
          },
          "metadata": {},
          "execution_count": 39
        }
      ],
      "source": [
        "# predict the test data\n",
        "y_pred = model.predict(X_test)\n",
        "y_pred"
      ]
    },
    {
      "cell_type": "markdown",
      "metadata": {
        "id": "is0RCgbcowBh"
      },
      "source": [
        "Random forest model evaluation"
      ]
    },
    {
      "cell_type": "code",
      "execution_count": 40,
      "metadata": {
        "id": "PG_9-Y_5onnV",
        "colab": {
          "base_uri": "https://localhost:8080/"
        },
        "outputId": "2ba76a68-10de-45cd-d7e0-9be2a45a13cf"
      },
      "outputs": [
        {
          "output_type": "stream",
          "name": "stdout",
          "text": [
            "Mean Absolute Error: 95.33555370524563\n",
            "Mean Squared Error: 3369.142381348876\n",
            "Root Mean Squared Error: 58.04431394502717\n"
          ]
        }
      ],
      "source": [
        "# model evaluation\n",
        "print('Mean Absolute Error:', metrics.mean_absolute_error(y_test, y_pred))\n",
        "print('Mean Squared Error:', metrics.mean_squared_error(y_test, y_pred))\n",
        "print('Root Mean Squared Error:', np.sqrt(metrics.mean_squared_error(y_test, y_pred)))"
      ]
    },
    {
      "cell_type": "code",
      "execution_count": 41,
      "metadata": {
        "id": "Bj2URw57pGbD",
        "colab": {
          "base_uri": "https://localhost:8080/"
        },
        "outputId": "c7bfac96-989f-4a84-ddeb-4b5d856f9d9f"
      },
      "outputs": [
        {
          "output_type": "stream",
          "name": "stdout",
          "text": [
            "Accuracy: 0.43297252289758537\n"
          ]
        }
      ],
      "source": [
        "# Accuracy of the Model\n",
        "print(\"Accuracy:\",metrics.accuracy_score(y_test, y_pred))"
      ]
    },
    {
      "cell_type": "code",
      "execution_count": 42,
      "metadata": {
        "id": "goPQ2SnPp24J",
        "colab": {
          "base_uri": "https://localhost:8080/",
          "height": 423
        },
        "outputId": "c2a7d1c8-909c-449c-e8a6-c859e2af44c9"
      },
      "outputs": [
        {
          "output_type": "execute_result",
          "data": {
            "text/plain": [
              "      Actual  Predicted\n",
              "755       69          0\n",
              "2628      43         37\n",
              "3174      18        290\n",
              "2742      95          0\n",
              "1203      52         55\n",
              "...      ...        ...\n",
              "901       46         46\n",
              "4596      96          0\n",
              "1803       0          0\n",
              "979        0          0\n",
              "2435      37         61\n",
              "\n",
              "[1201 rows x 2 columns]"
            ],
            "text/html": [
              "\n",
              "  <div id=\"df-a1e29624-2a9b-4dce-9174-cb8af30e7993\">\n",
              "    <div class=\"colab-df-container\">\n",
              "      <div>\n",
              "<style scoped>\n",
              "    .dataframe tbody tr th:only-of-type {\n",
              "        vertical-align: middle;\n",
              "    }\n",
              "\n",
              "    .dataframe tbody tr th {\n",
              "        vertical-align: top;\n",
              "    }\n",
              "\n",
              "    .dataframe thead th {\n",
              "        text-align: right;\n",
              "    }\n",
              "</style>\n",
              "<table border=\"1\" class=\"dataframe\">\n",
              "  <thead>\n",
              "    <tr style=\"text-align: right;\">\n",
              "      <th></th>\n",
              "      <th>Actual</th>\n",
              "      <th>Predicted</th>\n",
              "    </tr>\n",
              "  </thead>\n",
              "  <tbody>\n",
              "    <tr>\n",
              "      <th>755</th>\n",
              "      <td>69</td>\n",
              "      <td>0</td>\n",
              "    </tr>\n",
              "    <tr>\n",
              "      <th>2628</th>\n",
              "      <td>43</td>\n",
              "      <td>37</td>\n",
              "    </tr>\n",
              "    <tr>\n",
              "      <th>3174</th>\n",
              "      <td>18</td>\n",
              "      <td>290</td>\n",
              "    </tr>\n",
              "    <tr>\n",
              "      <th>2742</th>\n",
              "      <td>95</td>\n",
              "      <td>0</td>\n",
              "    </tr>\n",
              "    <tr>\n",
              "      <th>1203</th>\n",
              "      <td>52</td>\n",
              "      <td>55</td>\n",
              "    </tr>\n",
              "    <tr>\n",
              "      <th>...</th>\n",
              "      <td>...</td>\n",
              "      <td>...</td>\n",
              "    </tr>\n",
              "    <tr>\n",
              "      <th>901</th>\n",
              "      <td>46</td>\n",
              "      <td>46</td>\n",
              "    </tr>\n",
              "    <tr>\n",
              "      <th>4596</th>\n",
              "      <td>96</td>\n",
              "      <td>0</td>\n",
              "    </tr>\n",
              "    <tr>\n",
              "      <th>1803</th>\n",
              "      <td>0</td>\n",
              "      <td>0</td>\n",
              "    </tr>\n",
              "    <tr>\n",
              "      <th>979</th>\n",
              "      <td>0</td>\n",
              "      <td>0</td>\n",
              "    </tr>\n",
              "    <tr>\n",
              "      <th>2435</th>\n",
              "      <td>37</td>\n",
              "      <td>61</td>\n",
              "    </tr>\n",
              "  </tbody>\n",
              "</table>\n",
              "<p>1201 rows × 2 columns</p>\n",
              "</div>\n",
              "      <button class=\"colab-df-convert\" onclick=\"convertToInteractive('df-a1e29624-2a9b-4dce-9174-cb8af30e7993')\"\n",
              "              title=\"Convert this dataframe to an interactive table.\"\n",
              "              style=\"display:none;\">\n",
              "        \n",
              "  <svg xmlns=\"http://www.w3.org/2000/svg\" height=\"24px\"viewBox=\"0 0 24 24\"\n",
              "       width=\"24px\">\n",
              "    <path d=\"M0 0h24v24H0V0z\" fill=\"none\"/>\n",
              "    <path d=\"M18.56 5.44l.94 2.06.94-2.06 2.06-.94-2.06-.94-.94-2.06-.94 2.06-2.06.94zm-11 1L8.5 8.5l.94-2.06 2.06-.94-2.06-.94L8.5 2.5l-.94 2.06-2.06.94zm10 10l.94 2.06.94-2.06 2.06-.94-2.06-.94-.94-2.06-.94 2.06-2.06.94z\"/><path d=\"M17.41 7.96l-1.37-1.37c-.4-.4-.92-.59-1.43-.59-.52 0-1.04.2-1.43.59L10.3 9.45l-7.72 7.72c-.78.78-.78 2.05 0 2.83L4 21.41c.39.39.9.59 1.41.59.51 0 1.02-.2 1.41-.59l7.78-7.78 2.81-2.81c.8-.78.8-2.07 0-2.86zM5.41 20L4 18.59l7.72-7.72 1.47 1.35L5.41 20z\"/>\n",
              "  </svg>\n",
              "      </button>\n",
              "      \n",
              "  <style>\n",
              "    .colab-df-container {\n",
              "      display:flex;\n",
              "      flex-wrap:wrap;\n",
              "      gap: 12px;\n",
              "    }\n",
              "\n",
              "    .colab-df-convert {\n",
              "      background-color: #E8F0FE;\n",
              "      border: none;\n",
              "      border-radius: 50%;\n",
              "      cursor: pointer;\n",
              "      display: none;\n",
              "      fill: #1967D2;\n",
              "      height: 32px;\n",
              "      padding: 0 0 0 0;\n",
              "      width: 32px;\n",
              "    }\n",
              "\n",
              "    .colab-df-convert:hover {\n",
              "      background-color: #E2EBFA;\n",
              "      box-shadow: 0px 1px 2px rgba(60, 64, 67, 0.3), 0px 1px 3px 1px rgba(60, 64, 67, 0.15);\n",
              "      fill: #174EA6;\n",
              "    }\n",
              "\n",
              "    [theme=dark] .colab-df-convert {\n",
              "      background-color: #3B4455;\n",
              "      fill: #D2E3FC;\n",
              "    }\n",
              "\n",
              "    [theme=dark] .colab-df-convert:hover {\n",
              "      background-color: #434B5C;\n",
              "      box-shadow: 0px 1px 3px 1px rgba(0, 0, 0, 0.15);\n",
              "      filter: drop-shadow(0px 1px 2px rgba(0, 0, 0, 0.3));\n",
              "      fill: #FFFFFF;\n",
              "    }\n",
              "  </style>\n",
              "\n",
              "      <script>\n",
              "        const buttonEl =\n",
              "          document.querySelector('#df-a1e29624-2a9b-4dce-9174-cb8af30e7993 button.colab-df-convert');\n",
              "        buttonEl.style.display =\n",
              "          google.colab.kernel.accessAllowed ? 'block' : 'none';\n",
              "\n",
              "        async function convertToInteractive(key) {\n",
              "          const element = document.querySelector('#df-a1e29624-2a9b-4dce-9174-cb8af30e7993');\n",
              "          const dataTable =\n",
              "            await google.colab.kernel.invokeFunction('convertToInteractive',\n",
              "                                                     [key], {});\n",
              "          if (!dataTable) return;\n",
              "\n",
              "          const docLinkHtml = 'Like what you see? Visit the ' +\n",
              "            '<a target=\"_blank\" href=https://colab.research.google.com/notebooks/data_table.ipynb>data table notebook</a>'\n",
              "            + ' to learn more about interactive tables.';\n",
              "          element.innerHTML = '';\n",
              "          dataTable['output_type'] = 'display_data';\n",
              "          await google.colab.output.renderOutput(dataTable, element);\n",
              "          const docLink = document.createElement('div');\n",
              "          docLink.innerHTML = docLinkHtml;\n",
              "          element.appendChild(docLink);\n",
              "        }\n",
              "      </script>\n",
              "    </div>\n",
              "  </div>\n",
              "  "
            ]
          },
          "metadata": {},
          "execution_count": 42
        }
      ],
      "source": [
        "# display actual and predicted values\n",
        "pd.DataFrame({'Actual': y_test, 'Predicted': y_pred})"
      ]
    },
    {
      "cell_type": "markdown",
      "metadata": {
        "id": "eKSFn0Sa6-VP"
      },
      "source": [
        "# 3. Support Vector Machine Model"
      ]
    },
    {
      "cell_type": "markdown",
      "metadata": {
        "id": "K7ng90uZ7chG"
      },
      "source": [
        "filter out the required variables"
      ]
    },
    {
      "cell_type": "code",
      "execution_count": 43,
      "metadata": {
        "colab": {
          "base_uri": "https://localhost:8080/",
          "height": 597
        },
        "id": "NtjS8Ucp7EOc",
        "outputId": "885a7e9e-6ea6-4353-9649-df84b7cb0584"
      },
      "outputs": [
        {
          "output_type": "stream",
          "name": "stdout",
          "text": [
            "   Age  HIV_diagnoses  HIV_diagnosis_rate  Concurrent_diagnoses  \\\n",
            "0    6            295                 473                   126   \n",
            "1    6            291                 741                   122   \n",
            "2    6            266                 205                   109   \n",
            "3    6             51                1335                     7   \n",
            "4    0             47                 130                     4   \n",
            "\n",
            "   %_linked_to_care_within_3_months  %_viral_suppression  Deaths  \\\n",
            "0                                34                   47     231   \n",
            "1                                34                   48     226   \n",
            "2                                34                   44     219   \n",
            "3                                31                   31      12   \n",
            "4                                32                   33       1   \n",
            "\n",
            "   HIV_related_death_rate  \n",
            "0                      57  \n",
            "1                      56  \n",
            "2                      59  \n",
            "3                      56  \n",
            "4                      13  \n"
          ]
        },
        {
          "output_type": "execute_result",
          "data": {
            "text/plain": [
              "   Age  HIV_diagnoses  HIV_diagnosis_rate  Concurrent_diagnoses  \\\n",
              "0    6            295                 473                   126   \n",
              "1    6            291                 741                   122   \n",
              "2    6            266                 205                   109   \n",
              "3    6             51                1335                     7   \n",
              "4    0             47                 130                     4   \n",
              "\n",
              "   %_linked_to_care_within_3_months  %_viral_suppression  Deaths  \\\n",
              "0                                34                   47     231   \n",
              "1                                34                   48     226   \n",
              "2                                34                   44     219   \n",
              "3                                31                   31      12   \n",
              "4                                32                   33       1   \n",
              "\n",
              "   HIV_related_death_rate  \n",
              "0                      57  \n",
              "1                      56  \n",
              "2                      59  \n",
              "3                      56  \n",
              "4                      13  "
            ],
            "text/html": [
              "\n",
              "  <div id=\"df-1f0b8647-e524-43a6-bded-f7dca4914d04\">\n",
              "    <div class=\"colab-df-container\">\n",
              "      <div>\n",
              "<style scoped>\n",
              "    .dataframe tbody tr th:only-of-type {\n",
              "        vertical-align: middle;\n",
              "    }\n",
              "\n",
              "    .dataframe tbody tr th {\n",
              "        vertical-align: top;\n",
              "    }\n",
              "\n",
              "    .dataframe thead th {\n",
              "        text-align: right;\n",
              "    }\n",
              "</style>\n",
              "<table border=\"1\" class=\"dataframe\">\n",
              "  <thead>\n",
              "    <tr style=\"text-align: right;\">\n",
              "      <th></th>\n",
              "      <th>Age</th>\n",
              "      <th>HIV_diagnoses</th>\n",
              "      <th>HIV_diagnosis_rate</th>\n",
              "      <th>Concurrent_diagnoses</th>\n",
              "      <th>%_linked_to_care_within_3_months</th>\n",
              "      <th>%_viral_suppression</th>\n",
              "      <th>Deaths</th>\n",
              "      <th>HIV_related_death_rate</th>\n",
              "    </tr>\n",
              "  </thead>\n",
              "  <tbody>\n",
              "    <tr>\n",
              "      <th>0</th>\n",
              "      <td>6</td>\n",
              "      <td>295</td>\n",
              "      <td>473</td>\n",
              "      <td>126</td>\n",
              "      <td>34</td>\n",
              "      <td>47</td>\n",
              "      <td>231</td>\n",
              "      <td>57</td>\n",
              "    </tr>\n",
              "    <tr>\n",
              "      <th>1</th>\n",
              "      <td>6</td>\n",
              "      <td>291</td>\n",
              "      <td>741</td>\n",
              "      <td>122</td>\n",
              "      <td>34</td>\n",
              "      <td>48</td>\n",
              "      <td>226</td>\n",
              "      <td>56</td>\n",
              "    </tr>\n",
              "    <tr>\n",
              "      <th>2</th>\n",
              "      <td>6</td>\n",
              "      <td>266</td>\n",
              "      <td>205</td>\n",
              "      <td>109</td>\n",
              "      <td>34</td>\n",
              "      <td>44</td>\n",
              "      <td>219</td>\n",
              "      <td>59</td>\n",
              "    </tr>\n",
              "    <tr>\n",
              "      <th>3</th>\n",
              "      <td>6</td>\n",
              "      <td>51</td>\n",
              "      <td>1335</td>\n",
              "      <td>7</td>\n",
              "      <td>31</td>\n",
              "      <td>31</td>\n",
              "      <td>12</td>\n",
              "      <td>56</td>\n",
              "    </tr>\n",
              "    <tr>\n",
              "      <th>4</th>\n",
              "      <td>0</td>\n",
              "      <td>47</td>\n",
              "      <td>130</td>\n",
              "      <td>4</td>\n",
              "      <td>32</td>\n",
              "      <td>33</td>\n",
              "      <td>1</td>\n",
              "      <td>13</td>\n",
              "    </tr>\n",
              "  </tbody>\n",
              "</table>\n",
              "</div>\n",
              "      <button class=\"colab-df-convert\" onclick=\"convertToInteractive('df-1f0b8647-e524-43a6-bded-f7dca4914d04')\"\n",
              "              title=\"Convert this dataframe to an interactive table.\"\n",
              "              style=\"display:none;\">\n",
              "        \n",
              "  <svg xmlns=\"http://www.w3.org/2000/svg\" height=\"24px\"viewBox=\"0 0 24 24\"\n",
              "       width=\"24px\">\n",
              "    <path d=\"M0 0h24v24H0V0z\" fill=\"none\"/>\n",
              "    <path d=\"M18.56 5.44l.94 2.06.94-2.06 2.06-.94-2.06-.94-.94-2.06-.94 2.06-2.06.94zm-11 1L8.5 8.5l.94-2.06 2.06-.94-2.06-.94L8.5 2.5l-.94 2.06-2.06.94zm10 10l.94 2.06.94-2.06 2.06-.94-2.06-.94-.94-2.06-.94 2.06-2.06.94z\"/><path d=\"M17.41 7.96l-1.37-1.37c-.4-.4-.92-.59-1.43-.59-.52 0-1.04.2-1.43.59L10.3 9.45l-7.72 7.72c-.78.78-.78 2.05 0 2.83L4 21.41c.39.39.9.59 1.41.59.51 0 1.02-.2 1.41-.59l7.78-7.78 2.81-2.81c.8-.78.8-2.07 0-2.86zM5.41 20L4 18.59l7.72-7.72 1.47 1.35L5.41 20z\"/>\n",
              "  </svg>\n",
              "      </button>\n",
              "      \n",
              "  <style>\n",
              "    .colab-df-container {\n",
              "      display:flex;\n",
              "      flex-wrap:wrap;\n",
              "      gap: 12px;\n",
              "    }\n",
              "\n",
              "    .colab-df-convert {\n",
              "      background-color: #E8F0FE;\n",
              "      border: none;\n",
              "      border-radius: 50%;\n",
              "      cursor: pointer;\n",
              "      display: none;\n",
              "      fill: #1967D2;\n",
              "      height: 32px;\n",
              "      padding: 0 0 0 0;\n",
              "      width: 32px;\n",
              "    }\n",
              "\n",
              "    .colab-df-convert:hover {\n",
              "      background-color: #E2EBFA;\n",
              "      box-shadow: 0px 1px 2px rgba(60, 64, 67, 0.3), 0px 1px 3px 1px rgba(60, 64, 67, 0.15);\n",
              "      fill: #174EA6;\n",
              "    }\n",
              "\n",
              "    [theme=dark] .colab-df-convert {\n",
              "      background-color: #3B4455;\n",
              "      fill: #D2E3FC;\n",
              "    }\n",
              "\n",
              "    [theme=dark] .colab-df-convert:hover {\n",
              "      background-color: #434B5C;\n",
              "      box-shadow: 0px 1px 3px 1px rgba(0, 0, 0, 0.15);\n",
              "      filter: drop-shadow(0px 1px 2px rgba(0, 0, 0, 0.3));\n",
              "      fill: #FFFFFF;\n",
              "    }\n",
              "  </style>\n",
              "\n",
              "      <script>\n",
              "        const buttonEl =\n",
              "          document.querySelector('#df-1f0b8647-e524-43a6-bded-f7dca4914d04 button.colab-df-convert');\n",
              "        buttonEl.style.display =\n",
              "          google.colab.kernel.accessAllowed ? 'block' : 'none';\n",
              "\n",
              "        async function convertToInteractive(key) {\n",
              "          const element = document.querySelector('#df-1f0b8647-e524-43a6-bded-f7dca4914d04');\n",
              "          const dataTable =\n",
              "            await google.colab.kernel.invokeFunction('convertToInteractive',\n",
              "                                                     [key], {});\n",
              "          if (!dataTable) return;\n",
              "\n",
              "          const docLinkHtml = 'Like what you see? Visit the ' +\n",
              "            '<a target=\"_blank\" href=https://colab.research.google.com/notebooks/data_table.ipynb>data table notebook</a>'\n",
              "            + ' to learn more about interactive tables.';\n",
              "          element.innerHTML = '';\n",
              "          dataTable['output_type'] = 'display_data';\n",
              "          await google.colab.output.renderOutput(dataTable, element);\n",
              "          const docLink = document.createElement('div');\n",
              "          docLink.innerHTML = docLinkHtml;\n",
              "          element.appendChild(docLink);\n",
              "        }\n",
              "      </script>\n",
              "    </div>\n",
              "  </div>\n",
              "  "
            ]
          },
          "metadata": {},
          "execution_count": 43
        }
      ],
      "source": [
        "# import libraries\n",
        "from sklearn.model_selection import train_test_split\n",
        "from sklearn.svm import SVC\n",
        "from sklearn.metrics import confusion_matrix\n",
        "\n",
        "data_svm = hiv_data.filter(['Age', 'HIV diagnoses', 'HIV diagnosis rate', \n",
        "                          'Concurrent diagnoses', '% linked to care within 3 months', \n",
        "                          '% viral suppression', 'Deaths', 'HIV-related death rate'])\n",
        "\n",
        "# remove special character\n",
        "data_svm.columns = data_svm.columns.str.replace('-', '_')\n",
        "data_svm.columns = data_svm.columns.str.rstrip()\n",
        "data_svm.columns = data_svm.columns.str.replace(' ', '_')\n",
        "\n",
        "# convert to numerical\n",
        "data_svm = data_svm.astype('category')\n",
        "wd_column = data_svm.select_dtypes(['category']).columns\n",
        "data_svm[wd_column] = data_svm[wd_column].apply(lambda x: x.cat.codes)\n",
        "print(data_svm.head())\n",
        "data_svm.head()"
      ]
    },
    {
      "cell_type": "markdown",
      "metadata": {
        "id": "EjlVKv0q9eVd"
      },
      "source": [
        "split the data to training and testing"
      ]
    },
    {
      "cell_type": "code",
      "execution_count": 44,
      "metadata": {
        "id": "r1tj9qqS9hz3"
      },
      "outputs": [],
      "source": [
        "y = data_svm['HIV_related_death_rate']\n",
        "x = data_svm.drop(['HIV_related_death_rate'], axis = 1)\n",
        "X_train, X_test, y_train, y_test = train_test_split(x, y, test_size = 0.20, random_state = 0)"
      ]
    },
    {
      "cell_type": "code",
      "execution_count": 45,
      "metadata": {
        "colab": {
          "base_uri": "https://localhost:8080/"
        },
        "id": "mfS4qQDt9q3Z",
        "outputId": "47248dfa-88af-4103-dd9c-60fd1c15bf80"
      },
      "outputs": [
        {
          "output_type": "execute_result",
          "data": {
            "text/plain": [
              "SVC(random_state=1)"
            ]
          },
          "metadata": {},
          "execution_count": 45
        }
      ],
      "source": [
        "# train the model\n",
        "\n",
        "model = SVC(kernel='rbf', random_state = 1)\n",
        "model.fit(X_train,y_train)"
      ]
    },
    {
      "cell_type": "code",
      "execution_count": 46,
      "metadata": {
        "colab": {
          "base_uri": "https://localhost:8080/"
        },
        "id": "E_rd09eJ-U8g",
        "outputId": "c05ea1ce-2557-48ef-8a7c-3f7610ecea2d"
      },
      "outputs": [
        {
          "output_type": "execute_result",
          "data": {
            "text/plain": [
              "array([290,   0,   0, ...,   0,   0,   0], dtype=int16)"
            ]
          },
          "metadata": {},
          "execution_count": 46
        }
      ],
      "source": [
        "# carry out prediction\n",
        "y_pred = model.predict(X_test)\n",
        "y_pred"
      ]
    },
    {
      "cell_type": "code",
      "execution_count": 47,
      "metadata": {
        "colab": {
          "base_uri": "https://localhost:8080/",
          "height": 423
        },
        "id": "XtXc30Eh-oQc",
        "outputId": "08a02a1e-a313-4d8e-be07-ff99e5fe42e3"
      },
      "outputs": [
        {
          "output_type": "execute_result",
          "data": {
            "text/plain": [
              "      Actual  Predicted\n",
              "4324      26        290\n",
              "1362       0          0\n",
              "3783      30          0\n",
              "472        0          0\n",
              "1371       0          0\n",
              "...      ...        ...\n",
              "806      102          0\n",
              "1430      51          0\n",
              "1804       0          0\n",
              "3761      33          0\n",
              "1326     166          0\n",
              "\n",
              "[1201 rows x 2 columns]"
            ],
            "text/html": [
              "\n",
              "  <div id=\"df-7a95e3b4-2f50-42c1-be2a-90f1848dbc0a\">\n",
              "    <div class=\"colab-df-container\">\n",
              "      <div>\n",
              "<style scoped>\n",
              "    .dataframe tbody tr th:only-of-type {\n",
              "        vertical-align: middle;\n",
              "    }\n",
              "\n",
              "    .dataframe tbody tr th {\n",
              "        vertical-align: top;\n",
              "    }\n",
              "\n",
              "    .dataframe thead th {\n",
              "        text-align: right;\n",
              "    }\n",
              "</style>\n",
              "<table border=\"1\" class=\"dataframe\">\n",
              "  <thead>\n",
              "    <tr style=\"text-align: right;\">\n",
              "      <th></th>\n",
              "      <th>Actual</th>\n",
              "      <th>Predicted</th>\n",
              "    </tr>\n",
              "  </thead>\n",
              "  <tbody>\n",
              "    <tr>\n",
              "      <th>4324</th>\n",
              "      <td>26</td>\n",
              "      <td>290</td>\n",
              "    </tr>\n",
              "    <tr>\n",
              "      <th>1362</th>\n",
              "      <td>0</td>\n",
              "      <td>0</td>\n",
              "    </tr>\n",
              "    <tr>\n",
              "      <th>3783</th>\n",
              "      <td>30</td>\n",
              "      <td>0</td>\n",
              "    </tr>\n",
              "    <tr>\n",
              "      <th>472</th>\n",
              "      <td>0</td>\n",
              "      <td>0</td>\n",
              "    </tr>\n",
              "    <tr>\n",
              "      <th>1371</th>\n",
              "      <td>0</td>\n",
              "      <td>0</td>\n",
              "    </tr>\n",
              "    <tr>\n",
              "      <th>...</th>\n",
              "      <td>...</td>\n",
              "      <td>...</td>\n",
              "    </tr>\n",
              "    <tr>\n",
              "      <th>806</th>\n",
              "      <td>102</td>\n",
              "      <td>0</td>\n",
              "    </tr>\n",
              "    <tr>\n",
              "      <th>1430</th>\n",
              "      <td>51</td>\n",
              "      <td>0</td>\n",
              "    </tr>\n",
              "    <tr>\n",
              "      <th>1804</th>\n",
              "      <td>0</td>\n",
              "      <td>0</td>\n",
              "    </tr>\n",
              "    <tr>\n",
              "      <th>3761</th>\n",
              "      <td>33</td>\n",
              "      <td>0</td>\n",
              "    </tr>\n",
              "    <tr>\n",
              "      <th>1326</th>\n",
              "      <td>166</td>\n",
              "      <td>0</td>\n",
              "    </tr>\n",
              "  </tbody>\n",
              "</table>\n",
              "<p>1201 rows × 2 columns</p>\n",
              "</div>\n",
              "      <button class=\"colab-df-convert\" onclick=\"convertToInteractive('df-7a95e3b4-2f50-42c1-be2a-90f1848dbc0a')\"\n",
              "              title=\"Convert this dataframe to an interactive table.\"\n",
              "              style=\"display:none;\">\n",
              "        \n",
              "  <svg xmlns=\"http://www.w3.org/2000/svg\" height=\"24px\"viewBox=\"0 0 24 24\"\n",
              "       width=\"24px\">\n",
              "    <path d=\"M0 0h24v24H0V0z\" fill=\"none\"/>\n",
              "    <path d=\"M18.56 5.44l.94 2.06.94-2.06 2.06-.94-2.06-.94-.94-2.06-.94 2.06-2.06.94zm-11 1L8.5 8.5l.94-2.06 2.06-.94-2.06-.94L8.5 2.5l-.94 2.06-2.06.94zm10 10l.94 2.06.94-2.06 2.06-.94-2.06-.94-.94-2.06-.94 2.06-2.06.94z\"/><path d=\"M17.41 7.96l-1.37-1.37c-.4-.4-.92-.59-1.43-.59-.52 0-1.04.2-1.43.59L10.3 9.45l-7.72 7.72c-.78.78-.78 2.05 0 2.83L4 21.41c.39.39.9.59 1.41.59.51 0 1.02-.2 1.41-.59l7.78-7.78 2.81-2.81c.8-.78.8-2.07 0-2.86zM5.41 20L4 18.59l7.72-7.72 1.47 1.35L5.41 20z\"/>\n",
              "  </svg>\n",
              "      </button>\n",
              "      \n",
              "  <style>\n",
              "    .colab-df-container {\n",
              "      display:flex;\n",
              "      flex-wrap:wrap;\n",
              "      gap: 12px;\n",
              "    }\n",
              "\n",
              "    .colab-df-convert {\n",
              "      background-color: #E8F0FE;\n",
              "      border: none;\n",
              "      border-radius: 50%;\n",
              "      cursor: pointer;\n",
              "      display: none;\n",
              "      fill: #1967D2;\n",
              "      height: 32px;\n",
              "      padding: 0 0 0 0;\n",
              "      width: 32px;\n",
              "    }\n",
              "\n",
              "    .colab-df-convert:hover {\n",
              "      background-color: #E2EBFA;\n",
              "      box-shadow: 0px 1px 2px rgba(60, 64, 67, 0.3), 0px 1px 3px 1px rgba(60, 64, 67, 0.15);\n",
              "      fill: #174EA6;\n",
              "    }\n",
              "\n",
              "    [theme=dark] .colab-df-convert {\n",
              "      background-color: #3B4455;\n",
              "      fill: #D2E3FC;\n",
              "    }\n",
              "\n",
              "    [theme=dark] .colab-df-convert:hover {\n",
              "      background-color: #434B5C;\n",
              "      box-shadow: 0px 1px 3px 1px rgba(0, 0, 0, 0.15);\n",
              "      filter: drop-shadow(0px 1px 2px rgba(0, 0, 0, 0.3));\n",
              "      fill: #FFFFFF;\n",
              "    }\n",
              "  </style>\n",
              "\n",
              "      <script>\n",
              "        const buttonEl =\n",
              "          document.querySelector('#df-7a95e3b4-2f50-42c1-be2a-90f1848dbc0a button.colab-df-convert');\n",
              "        buttonEl.style.display =\n",
              "          google.colab.kernel.accessAllowed ? 'block' : 'none';\n",
              "\n",
              "        async function convertToInteractive(key) {\n",
              "          const element = document.querySelector('#df-7a95e3b4-2f50-42c1-be2a-90f1848dbc0a');\n",
              "          const dataTable =\n",
              "            await google.colab.kernel.invokeFunction('convertToInteractive',\n",
              "                                                     [key], {});\n",
              "          if (!dataTable) return;\n",
              "\n",
              "          const docLinkHtml = 'Like what you see? Visit the ' +\n",
              "            '<a target=\"_blank\" href=https://colab.research.google.com/notebooks/data_table.ipynb>data table notebook</a>'\n",
              "            + ' to learn more about interactive tables.';\n",
              "          element.innerHTML = '';\n",
              "          dataTable['output_type'] = 'display_data';\n",
              "          await google.colab.output.renderOutput(dataTable, element);\n",
              "          const docLink = document.createElement('div');\n",
              "          docLink.innerHTML = docLinkHtml;\n",
              "          element.appendChild(docLink);\n",
              "        }\n",
              "      </script>\n",
              "    </div>\n",
              "  </div>\n",
              "  "
            ]
          },
          "metadata": {},
          "execution_count": 47
        }
      ],
      "source": [
        "# display actual and predicted values\n",
        "pd.DataFrame({'Actual': y_test, 'Predicted': y_pred})"
      ]
    },
    {
      "cell_type": "code",
      "execution_count": 48,
      "metadata": {
        "colab": {
          "base_uri": "https://localhost:8080/"
        },
        "id": "hWYM4Ier-0S8",
        "outputId": "33153c64-fe32-4ea1-c3b3-5235f6520c5f"
      },
      "outputs": [
        {
          "output_type": "stream",
          "name": "stdout",
          "text": [
            "\n",
            "Accuracy Of SVM :  0.4279766860949209\n"
          ]
        }
      ],
      "source": [
        "cfm = confusion_matrix(y_test,y_pred)\n",
        "accuracy = float(cfm.diagonal().sum())/len(y_test)\n",
        "print(\"\\nAccuracy Of SVM : \", accuracy)"
      ]
    },
    {
      "cell_type": "markdown",
      "source": [
        "# visualize the data"
      ],
      "metadata": {
        "id": "Zz9lKPKz310p"
      }
    },
    {
      "cell_type": "code",
      "source": [
        "# importing libraries\n",
        "import seaborn as sns\n",
        "import matplotlib.pyplot as plt"
      ],
      "metadata": {
        "id": "rFzm1-VW34My"
      },
      "execution_count": 49,
      "outputs": []
    },
    {
      "cell_type": "code",
      "source": [
        "# filter needed variables\n",
        "data_vl = hiv_data.filter(['Age', 'Gender', 'HIV diagnoses', 'HIV diagnosis rate', \n",
        "                          'Concurrent diagnoses', '% linked to care within 3 months', \n",
        "                          '% viral suppression', 'Deaths', 'HIV-related death rate'])\n",
        "\n",
        "# remove special character\n",
        "data_vl.columns = data_vl.columns.str.replace('-', '_')\n",
        "data_vl.columns = data_vl.columns.str.rstrip()\n",
        "data_vl.columns = data_vl.columns.str.replace(' ', '_')\n",
        "data_vl.head()"
      ],
      "metadata": {
        "colab": {
          "base_uri": "https://localhost:8080/",
          "height": 305
        },
        "id": "TPgImpcV427z",
        "outputId": "6693a615-2420-4182-c6bc-78a51e3f0ac8"
      },
      "execution_count": 50,
      "outputs": [
        {
          "output_type": "execute_result",
          "data": {
            "text/plain": [
              "       Age       Gender  HIV_diagnoses  HIV_diagnosis_rate  \\\n",
              "0      All          All           3379                48.3   \n",
              "1      All         Male           2595                79.1   \n",
              "2      All       Female            733                21.1   \n",
              "3      All  Transgender             51             99999.0   \n",
              "4  13 - 19       Female             47                13.6   \n",
              "\n",
              "   Concurrent_diagnoses  %_linked_to_care_within_3_months  \\\n",
              "0                   640                                66   \n",
              "1                   480                                66   \n",
              "2                   153                                66   \n",
              "3                     7                                63   \n",
              "4                     4                                64   \n",
              "\n",
              "   %_viral_suppression  Deaths  HIV_related_death_rate  \n",
              "0                   71    2040                     5.8  \n",
              "1                   72    1423                     5.7  \n",
              "2                   68     605                     6.0  \n",
              "3                   55      12                     5.7  \n",
              "4                   57       1                     1.4  "
            ],
            "text/html": [
              "\n",
              "  <div id=\"df-5f2f8a4e-8f09-47b8-a5ed-4689c2f4cd9f\">\n",
              "    <div class=\"colab-df-container\">\n",
              "      <div>\n",
              "<style scoped>\n",
              "    .dataframe tbody tr th:only-of-type {\n",
              "        vertical-align: middle;\n",
              "    }\n",
              "\n",
              "    .dataframe tbody tr th {\n",
              "        vertical-align: top;\n",
              "    }\n",
              "\n",
              "    .dataframe thead th {\n",
              "        text-align: right;\n",
              "    }\n",
              "</style>\n",
              "<table border=\"1\" class=\"dataframe\">\n",
              "  <thead>\n",
              "    <tr style=\"text-align: right;\">\n",
              "      <th></th>\n",
              "      <th>Age</th>\n",
              "      <th>Gender</th>\n",
              "      <th>HIV_diagnoses</th>\n",
              "      <th>HIV_diagnosis_rate</th>\n",
              "      <th>Concurrent_diagnoses</th>\n",
              "      <th>%_linked_to_care_within_3_months</th>\n",
              "      <th>%_viral_suppression</th>\n",
              "      <th>Deaths</th>\n",
              "      <th>HIV_related_death_rate</th>\n",
              "    </tr>\n",
              "  </thead>\n",
              "  <tbody>\n",
              "    <tr>\n",
              "      <th>0</th>\n",
              "      <td>All</td>\n",
              "      <td>All</td>\n",
              "      <td>3379</td>\n",
              "      <td>48.3</td>\n",
              "      <td>640</td>\n",
              "      <td>66</td>\n",
              "      <td>71</td>\n",
              "      <td>2040</td>\n",
              "      <td>5.8</td>\n",
              "    </tr>\n",
              "    <tr>\n",
              "      <th>1</th>\n",
              "      <td>All</td>\n",
              "      <td>Male</td>\n",
              "      <td>2595</td>\n",
              "      <td>79.1</td>\n",
              "      <td>480</td>\n",
              "      <td>66</td>\n",
              "      <td>72</td>\n",
              "      <td>1423</td>\n",
              "      <td>5.7</td>\n",
              "    </tr>\n",
              "    <tr>\n",
              "      <th>2</th>\n",
              "      <td>All</td>\n",
              "      <td>Female</td>\n",
              "      <td>733</td>\n",
              "      <td>21.1</td>\n",
              "      <td>153</td>\n",
              "      <td>66</td>\n",
              "      <td>68</td>\n",
              "      <td>605</td>\n",
              "      <td>6.0</td>\n",
              "    </tr>\n",
              "    <tr>\n",
              "      <th>3</th>\n",
              "      <td>All</td>\n",
              "      <td>Transgender</td>\n",
              "      <td>51</td>\n",
              "      <td>99999.0</td>\n",
              "      <td>7</td>\n",
              "      <td>63</td>\n",
              "      <td>55</td>\n",
              "      <td>12</td>\n",
              "      <td>5.7</td>\n",
              "    </tr>\n",
              "    <tr>\n",
              "      <th>4</th>\n",
              "      <td>13 - 19</td>\n",
              "      <td>Female</td>\n",
              "      <td>47</td>\n",
              "      <td>13.6</td>\n",
              "      <td>4</td>\n",
              "      <td>64</td>\n",
              "      <td>57</td>\n",
              "      <td>1</td>\n",
              "      <td>1.4</td>\n",
              "    </tr>\n",
              "  </tbody>\n",
              "</table>\n",
              "</div>\n",
              "      <button class=\"colab-df-convert\" onclick=\"convertToInteractive('df-5f2f8a4e-8f09-47b8-a5ed-4689c2f4cd9f')\"\n",
              "              title=\"Convert this dataframe to an interactive table.\"\n",
              "              style=\"display:none;\">\n",
              "        \n",
              "  <svg xmlns=\"http://www.w3.org/2000/svg\" height=\"24px\"viewBox=\"0 0 24 24\"\n",
              "       width=\"24px\">\n",
              "    <path d=\"M0 0h24v24H0V0z\" fill=\"none\"/>\n",
              "    <path d=\"M18.56 5.44l.94 2.06.94-2.06 2.06-.94-2.06-.94-.94-2.06-.94 2.06-2.06.94zm-11 1L8.5 8.5l.94-2.06 2.06-.94-2.06-.94L8.5 2.5l-.94 2.06-2.06.94zm10 10l.94 2.06.94-2.06 2.06-.94-2.06-.94-.94-2.06-.94 2.06-2.06.94z\"/><path d=\"M17.41 7.96l-1.37-1.37c-.4-.4-.92-.59-1.43-.59-.52 0-1.04.2-1.43.59L10.3 9.45l-7.72 7.72c-.78.78-.78 2.05 0 2.83L4 21.41c.39.39.9.59 1.41.59.51 0 1.02-.2 1.41-.59l7.78-7.78 2.81-2.81c.8-.78.8-2.07 0-2.86zM5.41 20L4 18.59l7.72-7.72 1.47 1.35L5.41 20z\"/>\n",
              "  </svg>\n",
              "      </button>\n",
              "      \n",
              "  <style>\n",
              "    .colab-df-container {\n",
              "      display:flex;\n",
              "      flex-wrap:wrap;\n",
              "      gap: 12px;\n",
              "    }\n",
              "\n",
              "    .colab-df-convert {\n",
              "      background-color: #E8F0FE;\n",
              "      border: none;\n",
              "      border-radius: 50%;\n",
              "      cursor: pointer;\n",
              "      display: none;\n",
              "      fill: #1967D2;\n",
              "      height: 32px;\n",
              "      padding: 0 0 0 0;\n",
              "      width: 32px;\n",
              "    }\n",
              "\n",
              "    .colab-df-convert:hover {\n",
              "      background-color: #E2EBFA;\n",
              "      box-shadow: 0px 1px 2px rgba(60, 64, 67, 0.3), 0px 1px 3px 1px rgba(60, 64, 67, 0.15);\n",
              "      fill: #174EA6;\n",
              "    }\n",
              "\n",
              "    [theme=dark] .colab-df-convert {\n",
              "      background-color: #3B4455;\n",
              "      fill: #D2E3FC;\n",
              "    }\n",
              "\n",
              "    [theme=dark] .colab-df-convert:hover {\n",
              "      background-color: #434B5C;\n",
              "      box-shadow: 0px 1px 3px 1px rgba(0, 0, 0, 0.15);\n",
              "      filter: drop-shadow(0px 1px 2px rgba(0, 0, 0, 0.3));\n",
              "      fill: #FFFFFF;\n",
              "    }\n",
              "  </style>\n",
              "\n",
              "      <script>\n",
              "        const buttonEl =\n",
              "          document.querySelector('#df-5f2f8a4e-8f09-47b8-a5ed-4689c2f4cd9f button.colab-df-convert');\n",
              "        buttonEl.style.display =\n",
              "          google.colab.kernel.accessAllowed ? 'block' : 'none';\n",
              "\n",
              "        async function convertToInteractive(key) {\n",
              "          const element = document.querySelector('#df-5f2f8a4e-8f09-47b8-a5ed-4689c2f4cd9f');\n",
              "          const dataTable =\n",
              "            await google.colab.kernel.invokeFunction('convertToInteractive',\n",
              "                                                     [key], {});\n",
              "          if (!dataTable) return;\n",
              "\n",
              "          const docLinkHtml = 'Like what you see? Visit the ' +\n",
              "            '<a target=\"_blank\" href=https://colab.research.google.com/notebooks/data_table.ipynb>data table notebook</a>'\n",
              "            + ' to learn more about interactive tables.';\n",
              "          element.innerHTML = '';\n",
              "          dataTable['output_type'] = 'display_data';\n",
              "          await google.colab.output.renderOutput(dataTable, element);\n",
              "          const docLink = document.createElement('div');\n",
              "          docLink.innerHTML = docLinkHtml;\n",
              "          element.appendChild(docLink);\n",
              "        }\n",
              "      </script>\n",
              "    </div>\n",
              "  </div>\n",
              "  "
            ]
          },
          "metadata": {},
          "execution_count": 50
        }
      ]
    },
    {
      "cell_type": "code",
      "source": [
        "data_vl.info()"
      ],
      "metadata": {
        "colab": {
          "base_uri": "https://localhost:8080/"
        },
        "id": "vKZ2ZydNXtFN",
        "outputId": "176ed607-592a-41c2-a48d-b8d0618dbd07"
      },
      "execution_count": 51,
      "outputs": [
        {
          "output_type": "stream",
          "name": "stdout",
          "text": [
            "<class 'pandas.core.frame.DataFrame'>\n",
            "RangeIndex: 6005 entries, 0 to 6004\n",
            "Data columns (total 9 columns):\n",
            " #   Column                            Non-Null Count  Dtype  \n",
            "---  ------                            --------------  -----  \n",
            " 0   Age                               6005 non-null   object \n",
            " 1   Gender                            6005 non-null   object \n",
            " 2   HIV_diagnoses                     6005 non-null   int64  \n",
            " 3   HIV_diagnosis_rate                6005 non-null   float64\n",
            " 4   Concurrent_diagnoses              6005 non-null   int64  \n",
            " 5   %_linked_to_care_within_3_months  6005 non-null   int64  \n",
            " 6   %_viral_suppression               6005 non-null   int64  \n",
            " 7   Deaths                            6005 non-null   int64  \n",
            " 8   HIV_related_death_rate            6005 non-null   float64\n",
            "dtypes: float64(2), int64(5), object(2)\n",
            "memory usage: 422.4+ KB\n"
          ]
        }
      ]
    },
    {
      "cell_type": "code",
      "source": [
        "data_vl.head()"
      ],
      "metadata": {
        "colab": {
          "base_uri": "https://localhost:8080/",
          "height": 305
        },
        "id": "PkvcVLpKc8sx",
        "outputId": "a98c3e43-ec99-4026-8d35-662580ea19b3"
      },
      "execution_count": 52,
      "outputs": [
        {
          "output_type": "execute_result",
          "data": {
            "text/plain": [
              "       Age       Gender  HIV_diagnoses  HIV_diagnosis_rate  \\\n",
              "0      All          All           3379                48.3   \n",
              "1      All         Male           2595                79.1   \n",
              "2      All       Female            733                21.1   \n",
              "3      All  Transgender             51             99999.0   \n",
              "4  13 - 19       Female             47                13.6   \n",
              "\n",
              "   Concurrent_diagnoses  %_linked_to_care_within_3_months  \\\n",
              "0                   640                                66   \n",
              "1                   480                                66   \n",
              "2                   153                                66   \n",
              "3                     7                                63   \n",
              "4                     4                                64   \n",
              "\n",
              "   %_viral_suppression  Deaths  HIV_related_death_rate  \n",
              "0                   71    2040                     5.8  \n",
              "1                   72    1423                     5.7  \n",
              "2                   68     605                     6.0  \n",
              "3                   55      12                     5.7  \n",
              "4                   57       1                     1.4  "
            ],
            "text/html": [
              "\n",
              "  <div id=\"df-aef92652-1419-4438-a4a9-0ee6ae0e8d95\">\n",
              "    <div class=\"colab-df-container\">\n",
              "      <div>\n",
              "<style scoped>\n",
              "    .dataframe tbody tr th:only-of-type {\n",
              "        vertical-align: middle;\n",
              "    }\n",
              "\n",
              "    .dataframe tbody tr th {\n",
              "        vertical-align: top;\n",
              "    }\n",
              "\n",
              "    .dataframe thead th {\n",
              "        text-align: right;\n",
              "    }\n",
              "</style>\n",
              "<table border=\"1\" class=\"dataframe\">\n",
              "  <thead>\n",
              "    <tr style=\"text-align: right;\">\n",
              "      <th></th>\n",
              "      <th>Age</th>\n",
              "      <th>Gender</th>\n",
              "      <th>HIV_diagnoses</th>\n",
              "      <th>HIV_diagnosis_rate</th>\n",
              "      <th>Concurrent_diagnoses</th>\n",
              "      <th>%_linked_to_care_within_3_months</th>\n",
              "      <th>%_viral_suppression</th>\n",
              "      <th>Deaths</th>\n",
              "      <th>HIV_related_death_rate</th>\n",
              "    </tr>\n",
              "  </thead>\n",
              "  <tbody>\n",
              "    <tr>\n",
              "      <th>0</th>\n",
              "      <td>All</td>\n",
              "      <td>All</td>\n",
              "      <td>3379</td>\n",
              "      <td>48.3</td>\n",
              "      <td>640</td>\n",
              "      <td>66</td>\n",
              "      <td>71</td>\n",
              "      <td>2040</td>\n",
              "      <td>5.8</td>\n",
              "    </tr>\n",
              "    <tr>\n",
              "      <th>1</th>\n",
              "      <td>All</td>\n",
              "      <td>Male</td>\n",
              "      <td>2595</td>\n",
              "      <td>79.1</td>\n",
              "      <td>480</td>\n",
              "      <td>66</td>\n",
              "      <td>72</td>\n",
              "      <td>1423</td>\n",
              "      <td>5.7</td>\n",
              "    </tr>\n",
              "    <tr>\n",
              "      <th>2</th>\n",
              "      <td>All</td>\n",
              "      <td>Female</td>\n",
              "      <td>733</td>\n",
              "      <td>21.1</td>\n",
              "      <td>153</td>\n",
              "      <td>66</td>\n",
              "      <td>68</td>\n",
              "      <td>605</td>\n",
              "      <td>6.0</td>\n",
              "    </tr>\n",
              "    <tr>\n",
              "      <th>3</th>\n",
              "      <td>All</td>\n",
              "      <td>Transgender</td>\n",
              "      <td>51</td>\n",
              "      <td>99999.0</td>\n",
              "      <td>7</td>\n",
              "      <td>63</td>\n",
              "      <td>55</td>\n",
              "      <td>12</td>\n",
              "      <td>5.7</td>\n",
              "    </tr>\n",
              "    <tr>\n",
              "      <th>4</th>\n",
              "      <td>13 - 19</td>\n",
              "      <td>Female</td>\n",
              "      <td>47</td>\n",
              "      <td>13.6</td>\n",
              "      <td>4</td>\n",
              "      <td>64</td>\n",
              "      <td>57</td>\n",
              "      <td>1</td>\n",
              "      <td>1.4</td>\n",
              "    </tr>\n",
              "  </tbody>\n",
              "</table>\n",
              "</div>\n",
              "      <button class=\"colab-df-convert\" onclick=\"convertToInteractive('df-aef92652-1419-4438-a4a9-0ee6ae0e8d95')\"\n",
              "              title=\"Convert this dataframe to an interactive table.\"\n",
              "              style=\"display:none;\">\n",
              "        \n",
              "  <svg xmlns=\"http://www.w3.org/2000/svg\" height=\"24px\"viewBox=\"0 0 24 24\"\n",
              "       width=\"24px\">\n",
              "    <path d=\"M0 0h24v24H0V0z\" fill=\"none\"/>\n",
              "    <path d=\"M18.56 5.44l.94 2.06.94-2.06 2.06-.94-2.06-.94-.94-2.06-.94 2.06-2.06.94zm-11 1L8.5 8.5l.94-2.06 2.06-.94-2.06-.94L8.5 2.5l-.94 2.06-2.06.94zm10 10l.94 2.06.94-2.06 2.06-.94-2.06-.94-.94-2.06-.94 2.06-2.06.94z\"/><path d=\"M17.41 7.96l-1.37-1.37c-.4-.4-.92-.59-1.43-.59-.52 0-1.04.2-1.43.59L10.3 9.45l-7.72 7.72c-.78.78-.78 2.05 0 2.83L4 21.41c.39.39.9.59 1.41.59.51 0 1.02-.2 1.41-.59l7.78-7.78 2.81-2.81c.8-.78.8-2.07 0-2.86zM5.41 20L4 18.59l7.72-7.72 1.47 1.35L5.41 20z\"/>\n",
              "  </svg>\n",
              "      </button>\n",
              "      \n",
              "  <style>\n",
              "    .colab-df-container {\n",
              "      display:flex;\n",
              "      flex-wrap:wrap;\n",
              "      gap: 12px;\n",
              "    }\n",
              "\n",
              "    .colab-df-convert {\n",
              "      background-color: #E8F0FE;\n",
              "      border: none;\n",
              "      border-radius: 50%;\n",
              "      cursor: pointer;\n",
              "      display: none;\n",
              "      fill: #1967D2;\n",
              "      height: 32px;\n",
              "      padding: 0 0 0 0;\n",
              "      width: 32px;\n",
              "    }\n",
              "\n",
              "    .colab-df-convert:hover {\n",
              "      background-color: #E2EBFA;\n",
              "      box-shadow: 0px 1px 2px rgba(60, 64, 67, 0.3), 0px 1px 3px 1px rgba(60, 64, 67, 0.15);\n",
              "      fill: #174EA6;\n",
              "    }\n",
              "\n",
              "    [theme=dark] .colab-df-convert {\n",
              "      background-color: #3B4455;\n",
              "      fill: #D2E3FC;\n",
              "    }\n",
              "\n",
              "    [theme=dark] .colab-df-convert:hover {\n",
              "      background-color: #434B5C;\n",
              "      box-shadow: 0px 1px 3px 1px rgba(0, 0, 0, 0.15);\n",
              "      filter: drop-shadow(0px 1px 2px rgba(0, 0, 0, 0.3));\n",
              "      fill: #FFFFFF;\n",
              "    }\n",
              "  </style>\n",
              "\n",
              "      <script>\n",
              "        const buttonEl =\n",
              "          document.querySelector('#df-aef92652-1419-4438-a4a9-0ee6ae0e8d95 button.colab-df-convert');\n",
              "        buttonEl.style.display =\n",
              "          google.colab.kernel.accessAllowed ? 'block' : 'none';\n",
              "\n",
              "        async function convertToInteractive(key) {\n",
              "          const element = document.querySelector('#df-aef92652-1419-4438-a4a9-0ee6ae0e8d95');\n",
              "          const dataTable =\n",
              "            await google.colab.kernel.invokeFunction('convertToInteractive',\n",
              "                                                     [key], {});\n",
              "          if (!dataTable) return;\n",
              "\n",
              "          const docLinkHtml = 'Like what you see? Visit the ' +\n",
              "            '<a target=\"_blank\" href=https://colab.research.google.com/notebooks/data_table.ipynb>data table notebook</a>'\n",
              "            + ' to learn more about interactive tables.';\n",
              "          element.innerHTML = '';\n",
              "          dataTable['output_type'] = 'display_data';\n",
              "          await google.colab.output.renderOutput(dataTable, element);\n",
              "          const docLink = document.createElement('div');\n",
              "          docLink.innerHTML = docLinkHtml;\n",
              "          element.appendChild(docLink);\n",
              "        }\n",
              "      </script>\n",
              "    </div>\n",
              "  </div>\n",
              "  "
            ]
          },
          "metadata": {},
          "execution_count": 52
        }
      ]
    },
    {
      "cell_type": "code",
      "source": [
        "# visualizing HIV diagnosis rate\n",
        "df_vl = data_vl.groupby('Gender')['HIV_diagnosis_rate'].sum().to_frame().reset_index()\n",
        "#Creating the column plot \n",
        "plt.bar(df_vl['Gender'],df_vl['HIV_diagnosis_rate'],color = ['#0000FF','#228B22','#800000']) \n",
        "#Adding the aesthetics\n",
        "plt.title('HIV Diagnosis Rate Across Genders')\n",
        "plt.xlabel('GENDER')\n",
        "plt.ylabel('HIV_diagnosis_rate') \n",
        "#Show the plot\n",
        "plt.show()"
      ],
      "metadata": {
        "colab": {
          "base_uri": "https://localhost:8080/",
          "height": 295
        },
        "id": "CjkaoPKmYBet",
        "outputId": "c5f6ae07-723c-4569-ec01-4f1b94deee21"
      },
      "execution_count": 53,
      "outputs": [
        {
          "output_type": "display_data",
          "data": {
            "text/plain": [
              "<Figure size 432x288 with 1 Axes>"
            ],
            "image/png": "[encoded data removed]"
          },
          "metadata": {
            "needs_background": "light"
          }
        }
      ]
    },
    {
      "cell_type": "code",
      "source": [
        "df_vl"
      ],
      "metadata": {
        "colab": {
          "base_uri": "https://localhost:8080/",
          "height": 174
        },
        "id": "YPLghWFkeMOE",
        "outputId": "43766593-4bc8-4425-cd32-345b0a4c5dc3"
      },
      "execution_count": 54,
      "outputs": [
        {
          "output_type": "execute_result",
          "data": {
            "text/plain": [
              "        Gender  HIV_diagnosis_rate\n",
              "0          All              8360.2\n",
              "1       Female             42571.9\n",
              "2         Male            166679.4\n",
              "3  Transgender            499995.0"
            ],
            "text/html": [
              "\n",
              "  <div id=\"df-a36a4286-9372-4aa7-821f-a4f9fb126326\">\n",
              "    <div class=\"colab-df-container\">\n",
              "      <div>\n",
              "<style scoped>\n",
              "    .dataframe tbody tr th:only-of-type {\n",
              "        vertical-align: middle;\n",
              "    }\n",
              "\n",
              "    .dataframe tbody tr th {\n",
              "        vertical-align: top;\n",
              "    }\n",
              "\n",
              "    .dataframe thead th {\n",
              "        text-align: right;\n",
              "    }\n",
              "</style>\n",
              "<table border=\"1\" class=\"dataframe\">\n",
              "  <thead>\n",
              "    <tr style=\"text-align: right;\">\n",
              "      <th></th>\n",
              "      <th>Gender</th>\n",
              "      <th>HIV_diagnosis_rate</th>\n",
              "    </tr>\n",
              "  </thead>\n",
              "  <tbody>\n",
              "    <tr>\n",
              "      <th>0</th>\n",
              "      <td>All</td>\n",
              "      <td>8360.2</td>\n",
              "    </tr>\n",
              "    <tr>\n",
              "      <th>1</th>\n",
              "      <td>Female</td>\n",
              "      <td>42571.9</td>\n",
              "    </tr>\n",
              "    <tr>\n",
              "      <th>2</th>\n",
              "      <td>Male</td>\n",
              "      <td>166679.4</td>\n",
              "    </tr>\n",
              "    <tr>\n",
              "      <th>3</th>\n",
              "      <td>Transgender</td>\n",
              "      <td>499995.0</td>\n",
              "    </tr>\n",
              "  </tbody>\n",
              "</table>\n",
              "</div>\n",
              "      <button class=\"colab-df-convert\" onclick=\"convertToInteractive('df-a36a4286-9372-4aa7-821f-a4f9fb126326')\"\n",
              "              title=\"Convert this dataframe to an interactive table.\"\n",
              "              style=\"display:none;\">\n",
              "        \n",
              "  <svg xmlns=\"http://www.w3.org/2000/svg\" height=\"24px\"viewBox=\"0 0 24 24\"\n",
              "       width=\"24px\">\n",
              "    <path d=\"M0 0h24v24H0V0z\" fill=\"none\"/>\n",
              "    <path d=\"M18.56 5.44l.94 2.06.94-2.06 2.06-.94-2.06-.94-.94-2.06-.94 2.06-2.06.94zm-11 1L8.5 8.5l.94-2.06 2.06-.94-2.06-.94L8.5 2.5l-.94 2.06-2.06.94zm10 10l.94 2.06.94-2.06 2.06-.94-2.06-.94-.94-2.06-.94 2.06-2.06.94z\"/><path d=\"M17.41 7.96l-1.37-1.37c-.4-.4-.92-.59-1.43-.59-.52 0-1.04.2-1.43.59L10.3 9.45l-7.72 7.72c-.78.78-.78 2.05 0 2.83L4 21.41c.39.39.9.59 1.41.59.51 0 1.02-.2 1.41-.59l7.78-7.78 2.81-2.81c.8-.78.8-2.07 0-2.86zM5.41 20L4 18.59l7.72-7.72 1.47 1.35L5.41 20z\"/>\n",
              "  </svg>\n",
              "      </button>\n",
              "      \n",
              "  <style>\n",
              "    .colab-df-container {\n",
              "      display:flex;\n",
              "      flex-wrap:wrap;\n",
              "      gap: 12px;\n",
              "    }\n",
              "\n",
              "    .colab-df-convert {\n",
              "      background-color: #E8F0FE;\n",
              "      border: none;\n",
              "      border-radius: 50%;\n",
              "      cursor: pointer;\n",
              "      display: none;\n",
              "      fill: #1967D2;\n",
              "      height: 32px;\n",
              "      padding: 0 0 0 0;\n",
              "      width: 32px;\n",
              "    }\n",
              "\n",
              "    .colab-df-convert:hover {\n",
              "      background-color: #E2EBFA;\n",
              "      box-shadow: 0px 1px 2px rgba(60, 64, 67, 0.3), 0px 1px 3px 1px rgba(60, 64, 67, 0.15);\n",
              "      fill: #174EA6;\n",
              "    }\n",
              "\n",
              "    [theme=dark] .colab-df-convert {\n",
              "      background-color: #3B4455;\n",
              "      fill: #D2E3FC;\n",
              "    }\n",
              "\n",
              "    [theme=dark] .colab-df-convert:hover {\n",
              "      background-color: #434B5C;\n",
              "      box-shadow: 0px 1px 3px 1px rgba(0, 0, 0, 0.15);\n",
              "      filter: drop-shadow(0px 1px 2px rgba(0, 0, 0, 0.3));\n",
              "      fill: #FFFFFF;\n",
              "    }\n",
              "  </style>\n",
              "\n",
              "      <script>\n",
              "        const buttonEl =\n",
              "          document.querySelector('#df-a36a4286-9372-4aa7-821f-a4f9fb126326 button.colab-df-convert');\n",
              "        buttonEl.style.display =\n",
              "          google.colab.kernel.accessAllowed ? 'block' : 'none';\n",
              "\n",
              "        async function convertToInteractive(key) {\n",
              "          const element = document.querySelector('#df-a36a4286-9372-4aa7-821f-a4f9fb126326');\n",
              "          const dataTable =\n",
              "            await google.colab.kernel.invokeFunction('convertToInteractive',\n",
              "                                                     [key], {});\n",
              "          if (!dataTable) return;\n",
              "\n",
              "          const docLinkHtml = 'Like what you see? Visit the ' +\n",
              "            '<a target=\"_blank\" href=https://colab.research.google.com/notebooks/data_table.ipynb>data table notebook</a>'\n",
              "            + ' to learn more about interactive tables.';\n",
              "          element.innerHTML = '';\n",
              "          dataTable['output_type'] = 'display_data';\n",
              "          await google.colab.output.renderOutput(dataTable, element);\n",
              "          const docLink = document.createElement('div');\n",
              "          docLink.innerHTML = docLinkHtml;\n",
              "          element.appendChild(docLink);\n",
              "        }\n",
              "      </script>\n",
              "    </div>\n",
              "  </div>\n",
              "  "
            ]
          },
          "metadata": {},
          "execution_count": 54
        }
      ]
    },
    {
      "cell_type": "code",
      "source": [
        "df_vl = data_vl.groupby('Gender')['HIV_diagnoses'].sum().to_frame().reset_index()\n",
        "#Creating the column plot \n",
        "plt.bar(df_vl['Gender'],df_vl['HIV_diagnoses'],color = ['#0000FF','#228B22','#800000']) \n",
        "#Adding the aesthetics\n",
        "plt.title('HIV Diagnoses Across Genders')\n",
        "plt.xlabel('GENDER')\n",
        "plt.ylabel('HIV_diagnoses') \n",
        "#Show the plot\n",
        "plt.show()"
      ],
      "metadata": {
        "colab": {
          "base_uri": "https://localhost:8080/",
          "height": 295
        },
        "id": "zlb0xL1C4spQ",
        "outputId": "f7f0ba2a-d035-4450-dd2b-6aba93f676ad"
      },
      "execution_count": 55,
      "outputs": [
        {
          "output_type": "display_data",
          "data": {
            "text/plain": [
              "<Figure size 432x288 with 1 Axes>"
            ],
            "image/png": "[encoded data removed]"
          },
          "metadata": {
            "needs_background": "light"
          }
        }
      ]
    },
    {
      "cell_type": "code",
      "source": [
        "# Scatter plot with day against tip\n",
        "plt.scatter(data_vl['Gender'], data_vl['HIV_diagnoses'])\n",
        "# Adding Title to the Plot\n",
        "plt.title(\"Scatter Plot\")\n",
        "# Setting the X and Y labels\n",
        "plt.xlabel('GENDER')\n",
        "plt.ylabel('HIV Diagnoses')\n",
        "  \n",
        "plt.show()"
      ],
      "metadata": {
        "colab": {
          "base_uri": "https://localhost:8080/",
          "height": 295
        },
        "id": "TMcu3Vz06YEa",
        "outputId": "ab580fdc-a29e-43ad-ec3f-ea19fd77d314"
      },
      "execution_count": 56,
      "outputs": [
        {
          "output_type": "display_data",
          "data": {
            "text/plain": [
              "<Figure size 432x288 with 1 Axes>"
            ],
            "image/png": "[encoded data removed]"
          },
          "metadata": {
            "needs_background": "light"
          }
        }
      ]
    }
  ],
  "metadata": {
    "colab": {
      "collapsed_sections": [],
      "name": "Project_for_HIV_Correlation",
      "provenance": []
    },
    "kernelspec": {
      "display_name": "Python 3",
      "name": "python3"
    },
    "language_info": {
      "name": "python"
    }
  },
  "nbformat": 4,
  "nbformat_minor": 0
}